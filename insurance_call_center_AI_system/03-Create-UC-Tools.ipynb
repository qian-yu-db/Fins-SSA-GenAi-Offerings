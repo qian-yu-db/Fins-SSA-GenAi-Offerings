{
 "cells": [
  {
   "cell_type": "markdown",
   "metadata": {
    "application/vnd.databricks.v1+cell": {
     "cellMetadata": {},
     "inputWidgets": {},
     "nuid": "0bda2c9f-018f-42d1-af59-48c12f70be08",
     "showTitle": false,
     "tableResultSettingsMap": {},
     "title": ""
    }
   },
   "source": [
    "\n",
    "# The Notebook will perform Unity Catalog Tool Creation\n",
    "\n",
    "* UC function tools are managed in Unity Catalog with build-in security and compliance features\n",
    "* Refer to [AI Agent Tools](https://docs.databricks.com/aws/en/generative-ai/agent-framework/agent-tool)"
   ]
  },
  {
   "cell_type": "code",
   "execution_count": 0,
   "metadata": {
    "application/vnd.databricks.v1+cell": {
     "cellMetadata": {
      "byteLimit": 2048000,
      "rowLimit": 10000
     },
     "inputWidgets": {},
     "nuid": "3cb15f55-746f-4a90-996a-9f50c48745c1",
     "showTitle": false,
     "tableResultSettingsMap": {},
     "title": ""
    }
   },
   "outputs": [],
   "source": [
    "%pip install databricks-sdk -U -q\n",
    "dbutils.library.restartPython()"
   ]
  },
  {
   "cell_type": "code",
   "execution_count": 0,
   "metadata": {
    "application/vnd.databricks.v1+cell": {
     "cellMetadata": {
      "byteLimit": 2048000,
      "rowLimit": 10000
     },
     "inputWidgets": {},
     "nuid": "4b20e7c7-fba8-44c5-9b4d-71b112d28979",
     "showTitle": false,
     "tableResultSettingsMap": {},
     "title": ""
    }
   },
   "outputs": [],
   "source": [
    "%run ./config"
   ]
  },
  {
   "cell_type": "code",
   "execution_count": 0,
   "metadata": {
    "application/vnd.databricks.v1+cell": {
     "cellMetadata": {
      "byteLimit": 2048000,
      "rowLimit": 10000
     },
     "inputWidgets": {},
     "nuid": "f4f7e1ac-cce5-4bd0-b0fe-cab69dbf52f7",
     "showTitle": false,
     "tableResultSettingsMap": {},
     "title": ""
    }
   },
   "outputs": [],
   "source": [
    "dbutils.widgets.text(name=\"recreate_uc_tools\", label=\"Recreate UC Tools\", defaultValue=\"false\")"
   ]
  },
  {
   "cell_type": "code",
   "execution_count": 0,
   "metadata": {
    "application/vnd.databricks.v1+cell": {
     "cellMetadata": {
      "byteLimit": 2048000,
      "rowLimit": 10000
     },
     "inputWidgets": {},
     "nuid": "2970a4b5-6576-415a-814a-a286253a1107",
     "showTitle": false,
     "tableResultSettingsMap": {},
     "title": ""
    }
   },
   "outputs": [],
   "source": [
    "recreate_uc_tools = dbutils.widgets.get(\"recreate_uc_tools\")\n",
    "if recreate_uc_tools == \"true\":\n",
    "    recreate_uc_tools = True\n",
    "else:\n",
    "    recreate_uc_tools = False\n",
    "print(f\"recreate_uc_tools: {recreate_uc_tools}\")"
   ]
  },
  {
   "cell_type": "markdown",
   "metadata": {
    "application/vnd.databricks.v1+cell": {
     "cellMetadata": {},
     "inputWidgets": {},
     "nuid": "ab2a0987-a00e-4f9f-9de5-ddc92995cdc5",
     "showTitle": false,
     "tableResultSettingsMap": {},
     "title": ""
    }
   },
   "source": [
    "\n",
    "# Check the existing tools in the target schema"
   ]
  },
  {
   "cell_type": "code",
   "execution_count": 0,
   "metadata": {
    "application/vnd.databricks.v1+cell": {
     "cellMetadata": {
      "byteLimit": 2048000,
      "rowLimit": 10000
     },
     "inputWidgets": {},
     "nuid": "3b18de69-928e-4dd8-8524-3faaaf15682c",
     "showTitle": false,
     "tableResultSettingsMap": {},
     "title": ""
    }
   },
   "outputs": [],
   "source": [
    "def show_or_clean_uc_tools(catalog, schema, delete_functions=False):\n",
    "    df = spark.sql(f\"SHOW USER FUNCTIONS IN {catalog}.{schema};\")\n",
    "    count = df.count()\n",
    "    rows = df.collect()\n",
    "    functions = [r.function for r in rows]\n",
    "    print(f\"There are {count} user defined UC functions: {functions}\")\n",
    "    if count > 0 and delete_functions:\n",
    "        for function_name in functions:\n",
    "            spark.sql(f\"DROP FUNCTION if exists {function_name};\")\n",
    "            print(f\"Dropped {function_name}\")\n",
    "        print(f'{spark.sql(f\"SHOW USER FUNCTIONS IN {catalog}.{schema};\").count()} functions exist')"
   ]
  },
  {
   "cell_type": "code",
   "execution_count": 0,
   "metadata": {
    "application/vnd.databricks.v1+cell": {
     "cellMetadata": {
      "byteLimit": 2048000,
      "rowLimit": 10000
     },
     "inputWidgets": {},
     "nuid": "48f21cd6-af26-465b-96ea-d3d1a67e2dff",
     "showTitle": false,
     "tableResultSettingsMap": {},
     "title": ""
    }
   },
   "outputs": [],
   "source": [
    "spark.sql(f\"USE CATALOG {catalog}\");\n",
    "spark.sql(f\"USE SCHEMA {schema}\");\n",
    "show_or_clean_uc_tools(catalog, schema, delete_functions=recreate_uc_tools)"
   ]
  },
  {
   "cell_type": "markdown",
   "metadata": {
    "application/vnd.databricks.v1+cell": {
     "cellMetadata": {},
     "inputWidgets": {},
     "nuid": "4647c59c-996d-4b67-849e-1d8e37e5def7",
     "showTitle": false,
     "tableResultSettingsMap": {},
     "title": ""
    }
   },
   "source": [
    "# Create UC Functions"
   ]
  },
  {
   "cell_type": "markdown",
   "metadata": {
    "application/vnd.databricks.v1+cell": {
     "cellMetadata": {},
     "inputWidgets": {},
     "nuid": "c3503403-903a-4243-9d1c-adbc83483040",
     "showTitle": false,
     "tableResultSettingsMap": {},
     "title": ""
    }
   },
   "source": [
    "## Get Customer Policy Profile from Phone Number"
   ]
  },
  {
   "cell_type": "code",
   "execution_count": 0,
   "metadata": {
    "application/vnd.databricks.v1+cell": {
     "cellMetadata": {
      "byteLimit": 2048000,
      "implicitDf": true,
      "rowLimit": 10000
     },
     "inputWidgets": {},
     "nuid": "3d4319c0-eb63-4ae5-a42d-1b404f2d07c3",
     "showTitle": false,
     "tableResultSettingsMap": {},
     "title": ""
    }
   },
   "outputs": [],
   "source": [
    "%sql\n",
    "CREATE OR REPLACE FUNCTION get_customer_policy_profile_by_phone_number(\n",
    "  search_name STRING\n",
    ")\n",
    "RETURNS TABLE (\n",
    "  profile STRING\n",
    ")\n",
    "COMMENT 'Return a customer policy profile with a given phone number'\n",
    "LANGUAGE SQL\n",
    "  RETURN\n",
    "  SELECT\n",
    "    CONCAT(\"The customer \", first_name, \" \", last_name, \" lives in \", address, \" with email address \",\n",
    "           email, \" and phone number\", phone_number, \" owns a \", make, \" \", model_year, \" \", model, \" has a policy of \", \n",
    "           policy_type, \" (policy number:\", policy_number, \") issued on \", issue_date, \" and expires on \", expiration_date)\n",
    "  as policy_profile\n",
    "  FROM call_center_transcripts_analysis\n",
    "  where phone_number = search_name\n",
    "  limit 1\n",
    "  ;\n",
    "\n",
    "select * FROM get_customer_policy_profile_by_phone_number('(227)-636-7543') "
   ]
  },
  {
   "cell_type": "markdown",
   "metadata": {
    "application/vnd.databricks.v1+cell": {
     "cellMetadata": {},
     "inputWidgets": {},
     "nuid": "17dc9399-30d8-4830-bcb2-46da52215d1b",
     "showTitle": false,
     "tableResultSettingsMap": {},
     "title": ""
    }
   },
   "source": [
    "## Get Customer Intent by Phone Number"
   ]
  },
  {
   "cell_type": "code",
   "execution_count": 0,
   "metadata": {
    "application/vnd.databricks.v1+cell": {
     "cellMetadata": {
      "byteLimit": 2048000,
      "implicitDf": true,
      "rowLimit": 10000
     },
     "inputWidgets": {},
     "nuid": "6f9a01ad-29c3-4447-ac45-5b6561e5d23a",
     "showTitle": false,
     "tableResultSettingsMap": {},
     "title": ""
    }
   },
   "outputs": [],
   "source": [
    "%sql\n",
    "CREATE OR REPLACE FUNCTION get_customer_intent_by_phone_number(\n",
    "  search_name STRING\n",
    ")\n",
    "RETURNS TABLE (\n",
    "  profile STRING\n",
    ")\n",
    "COMMENT 'Return the customer intent of the last call transcript with a given phone number'\n",
    "LANGUAGE SQL\n",
    "  RETURN\n",
    "  select\n",
    "    intent\n",
    "  from call_center_transcripts_analysis\n",
    "  where phone_number = search_name\n",
    "  order by call_timestamp desc\n",
    "  limit 1\n",
    ";\n",
    "\n",
    "select * from get_customer_intent_by_phone_number('(875)-209-8555')"
   ]
  },
  {
   "cell_type": "markdown",
   "metadata": {
    "application/vnd.databricks.v1+cell": {
     "cellMetadata": {},
     "inputWidgets": {},
     "nuid": "0732b880-b932-4437-b7fe-9b22513171f3",
     "showTitle": false,
     "tableResultSettingsMap": {},
     "title": ""
    }
   },
   "source": [
    "## Get Customer Sentiment by Phone Number"
   ]
  },
  {
   "cell_type": "code",
   "execution_count": 0,
   "metadata": {
    "application/vnd.databricks.v1+cell": {
     "cellMetadata": {
      "byteLimit": 2048000,
      "implicitDf": true,
      "rowLimit": 10000
     },
     "inputWidgets": {},
     "nuid": "87d9b0ec-63c2-4696-a209-3cf2dc72d1dd",
     "showTitle": false,
     "tableResultSettingsMap": {},
     "title": ""
    }
   },
   "outputs": [],
   "source": [
    "%sql\n",
    "CREATE OR REPLACE FUNCTION get_customer_sentiment_by_phone_number(\n",
    "  search_name STRING\n",
    ")\n",
    "RETURNS TABLE (\n",
    "  profile STRING\n",
    ")\n",
    "COMMENT 'Return the customer sentiment of the last call transcript with a given phone number'\n",
    "LANGUAGE SQL\n",
    "  RETURN\n",
    "  select\n",
    "    sentiment\n",
    "  from call_center_transcripts_analysis\n",
    "  where phone_number = search_name\n",
    "  order by call_timestamp desc\n",
    "  limit 1\n",
    ";\n",
    "\n",
    "select * from get_customer_sentiment_by_phone_number('(875)-209-8555')"
   ]
  },
  {
   "cell_type": "markdown",
   "metadata": {
    "application/vnd.databricks.v1+cell": {
     "cellMetadata": {},
     "inputWidgets": {},
     "nuid": "06d527ef-0760-48b8-9160-13e0343c79fe",
     "showTitle": false,
     "tableResultSettingsMap": {},
     "title": ""
    }
   },
   "source": [
    "## Get Customer call transcript by phone number"
   ]
  },
  {
   "cell_type": "code",
   "execution_count": 0,
   "metadata": {
    "application/vnd.databricks.v1+cell": {
     "cellMetadata": {
      "byteLimit": 2048000,
      "implicitDf": true,
      "rowLimit": 10000
     },
     "inputWidgets": {},
     "nuid": "9f41cd01-4f40-4a04-bc46-d4e0144a94c3",
     "showTitle": false,
     "tableResultSettingsMap": {},
     "title": ""
    }
   },
   "outputs": [],
   "source": [
    "%sql\n",
    "CREATE OR REPLACE FUNCTION get_customer_transcript_by_phone_number(\n",
    "  search_name STRING\n",
    ")\n",
    "RETURNS TABLE (\n",
    "  profile STRING\n",
    ")\n",
    "COMMENT 'Return the customer last call transcript with a given phone number'\n",
    "LANGUAGE SQL\n",
    "  RETURN\n",
    "  select\n",
    "    transcript\n",
    "  from call_center_transcripts_analysis\n",
    "  where phone_number = search_name\n",
    "  order by call_timestamp desc\n",
    "  limit 1\n",
    ";\n",
    "\n",
    "select * from get_customer_transcript_by_phone_number('(875)-209-8555')"
   ]
  },
  {
   "cell_type": "code",
   "execution_count": 0,
   "metadata": {
    "application/vnd.databricks.v1+cell": {
     "cellMetadata": {},
     "inputWidgets": {},
     "nuid": "94b14c17-9ce5-4410-8dc9-fd79ecd42c70",
     "showTitle": false,
     "tableResultSettingsMap": {},
     "title": ""
    }
   },
   "outputs": [],
   "source": []
  }
 ],
 "metadata": {
  "application/vnd.databricks.v1+notebook": {
   "computePreferences": null,
   "dashboards": [],
   "environmentMetadata": {
    "base_environment": "",
    "environment_version": "2"
   },
   "inputWidgetPreferences": null,
   "language": "python",
   "notebookMetadata": {
    "mostRecentlyExecutedCommandWithImplicitDF": {
     "commandId": 2507833646546959,
     "dataframes": [
      "_sqldf"
     ]
    },
    "pythonIndentUnit": 4
   },
   "notebookName": "03-Create-UC-Tools",
   "widgets": {
    "recreate_uc_tools": {
     "currentValue": "false",
     "nuid": "cb92edf1-a95e-4e28-9130-02389e6f2f72",
     "typedWidgetInfo": {
      "autoCreated": false,
      "defaultValue": "false",
      "label": "Recreate UC Tools",
      "name": "recreate_uc_tools",
      "options": {
       "widgetDisplayType": "Text",
       "validationRegex": null
      },
      "parameterDataType": "String"
     },
     "widgetInfo": {
      "widgetType": "text",
      "defaultValue": "false",
      "label": "Recreate UC Tools",
      "name": "recreate_uc_tools",
      "options": {
       "widgetType": "text",
       "autoCreated": null,
       "validationRegex": null
      }
     }
    }
   }
  },
  "language_info": {
   "name": "python"
  }
 },
 "nbformat": 4,
 "nbformat_minor": 0
}
