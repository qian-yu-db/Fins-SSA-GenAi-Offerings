{
 "cells": [
  {
   "cell_type": "markdown",
   "metadata": {
    "application/vnd.databricks.v1+cell": {
     "cellMetadata": {},
     "inputWidgets": {},
     "nuid": "f1ad9795-5563-42f3-b989-6f10855c3753",
     "showTitle": false,
     "tableResultSettingsMap": {},
     "title": ""
    }
   },
   "source": [
    "# Notebook Purpose\n",
    "\n",
    "In this notebook, we will setup monitoring for monitoring for deployed AI agents"
   ]
  },
  {
   "cell_type": "code",
   "execution_count": 0,
   "metadata": {
    "application/vnd.databricks.v1+cell": {
     "cellMetadata": {
      "byteLimit": 2048000,
      "rowLimit": 10000
     },
     "inputWidgets": {},
     "nuid": "42fff478-025c-4d6d-bd7b-6962d139c65e",
     "showTitle": false,
     "tableResultSettingsMap": {},
     "title": ""
    }
   },
   "outputs": [
    {
     "output_type": "stream",
     "name": "stdout",
     "output_type": "stream",
     "text": [
      "\u001B[43mNote: you may need to restart the kernel using %restart_python or dbutils.library.restartPython() to use updated packages.\u001B[0m\n"
     ]
    }
   ],
   "source": [
    "%pip install databricks-agents -q\n",
    "dbutils.library.restartPython()"
   ]
  },
  {
   "cell_type": "markdown",
   "metadata": {
    "application/vnd.databricks.v1+cell": {
     "cellMetadata": {},
     "inputWidgets": {},
     "nuid": "1dbe53e4-33b4-466a-af6c-adc3c298dff9",
     "showTitle": false,
     "tableResultSettingsMap": {},
     "title": ""
    }
   },
   "source": [
    "# Configure Monitoring Metrics"
   ]
  },
  {
   "cell_type": "code",
   "execution_count": 0,
   "metadata": {
    "application/vnd.databricks.v1+cell": {
     "cellMetadata": {
      "byteLimit": 2048000,
      "rowLimit": 10000
     },
     "inputWidgets": {},
     "nuid": "b3a45509-dcb7-4a5b-84a4-9ec5227ff637",
     "showTitle": false,
     "tableResultSettingsMap": {},
     "title": ""
    }
   },
   "outputs": [
    {
     "output_type": "stream",
     "name": "stderr",
     "output_type": "stream",
     "text": [
      "/local_disk0/.ephemeral_nfs/envs/pythonEnv-b0aad590-f0d1-40f6-9f77-4eb262c374a4/lib/python3.11/site-packages/mlflow/pyfunc/utils/data_validation.py:168: UserWarning: \u001B[33mAdd type hints to the `predict` method to enable data validation and automatic signature inference during model logging. Check https://mlflow.org/docs/latest/model/python_model.html#type-hint-usage-in-pythonmodel for more details.\u001B[0m\n  color_warning(\n"
     ]
    },
    {
     "output_type": "stream",
     "name": "stdout",
     "output_type": "stream",
     "text": [
      "[Deployment(model_name='fins_genai.call_center.langgraph_call_center_vs', model_version='2', endpoint_name='agents_fins_genai-call_center-langgraph_call_center_vs', served_entity_name='fins_genai-call_center-langgraph_call_center_vs_2', query_endpoint='https://adb-984752964297111.11.azuredatabricks.net/serving-endpoints/agents_fins_genai-call_center-langgraph_call_center_vs/served-models/fins_genai-call_center-langgraph_call_center_vs_2/invocations', endpoint_url='https://adb-984752964297111.11.azuredatabricks.net/ml/endpoints/agents_fins_genai-call_center-langgraph_call_center_vs', review_app_url='https://adb-984752964297111.11.azuredatabricks.net/ml/review/fins_genai.call_center.langgraph_call_center_vs/2?o=984752964297111')]\n"
     ]
    }
   ],
   "source": [
    "from databricks.agents import list_deployments, get_deployments\n",
    "\n",
    "# Get the deployment for specific model_fqn and version\n",
    "#deployment1 = get_deployments(model_name=\"fins_genai.call_center.langgraph_call_center_cs\", model_version='1')\n",
    "deployment = get_deployments(model_name=\"fins_genai.call_center.langgraph_call_center_vs\", model_version='2')\n",
    "\n",
    "\n",
    "#deployments = list_deployments()\n",
    "# Print all the current deployments\n",
    "print(deployment)"
   ]
  },
  {
   "cell_type": "code",
   "execution_count": 0,
   "metadata": {
    "application/vnd.databricks.v1+cell": {
     "cellMetadata": {
      "byteLimit": 2048000,
      "rowLimit": 10000
     },
     "inputWidgets": {},
     "nuid": "aecc2899-8ea4-47f4-9701-8f4ceca3ea75",
     "showTitle": false,
     "tableResultSettingsMap": {},
     "title": ""
    }
   },
   "outputs": [
    {
     "output_type": "stream",
     "name": "stdout",
     "output_type": "stream",
     "text": [
      "agents_fins_genai-call_center-langgraph_call_center_vs\n"
     ]
    },
    {
     "output_type": "display_data",
     "data": {
      "text/plain": [
       "\u001B[0;31m---------------------------------------------------------------------------\u001B[0m\n",
       "\u001B[0;31mHTTPError\u001B[0m                                 Traceback (most recent call last)\n",
       "File \u001B[0;32m<command-3244118383093086>, line 4\u001B[0m\n",
       "\u001B[1;32m      1\u001B[0m \u001B[38;5;28;01mfrom\u001B[39;00m \u001B[38;5;21;01mdatabricks\u001B[39;00m\u001B[38;5;21;01m.\u001B[39;00m\u001B[38;5;21;01magents\u001B[39;00m\u001B[38;5;21;01m.\u001B[39;00m\u001B[38;5;21;01mevals\u001B[39;00m\u001B[38;5;21;01m.\u001B[39;00m\u001B[38;5;21;01mmonitors\u001B[39;00m \u001B[38;5;28;01mimport\u001B[39;00m create_monitor, update_monitor, get_monitor\n",
       "\u001B[1;32m      3\u001B[0m \u001B[38;5;28mprint\u001B[39m(deployment[\u001B[38;5;241m0\u001B[39m]\u001B[38;5;241m.\u001B[39mendpoint_name)\n",
       "\u001B[0;32m----> 4\u001B[0m get_monitor(endpoint_name\u001B[38;5;241m=\u001B[39mdeployment[\u001B[38;5;241m0\u001B[39m]\u001B[38;5;241m.\u001B[39mendpoint_name)\n",
       "\n",
       "File \u001B[0;32m/local_disk0/.ephemeral_nfs/envs/pythonEnv-b0aad590-f0d1-40f6-9f77-4eb262c374a4/lib/python3.11/site-packages/databricks/rag_eval/context.py:213\u001B[0m, in \u001B[0;36meval_context.<locals>.wrapper\u001B[0;34m(*args, **kwargs)\u001B[0m\n",
       "\u001B[1;32m    211\u001B[0m \u001B[38;5;66;03m# Raise the original error if there was one, otherwise return\u001B[39;00m\n",
       "\u001B[1;32m    212\u001B[0m \u001B[38;5;28;01mif\u001B[39;00m error \u001B[38;5;129;01mis\u001B[39;00m \u001B[38;5;129;01mnot\u001B[39;00m \u001B[38;5;28;01mNone\u001B[39;00m:\n",
       "\u001B[0;32m--> 213\u001B[0m     \u001B[38;5;28;01mraise\u001B[39;00m error\n",
       "\u001B[1;32m    214\u001B[0m \u001B[38;5;28;01melse\u001B[39;00m:\n",
       "\u001B[1;32m    215\u001B[0m     \u001B[38;5;28;01mreturn\u001B[39;00m result\n",
       "\n",
       "File \u001B[0;32m/local_disk0/.ephemeral_nfs/envs/pythonEnv-b0aad590-f0d1-40f6-9f77-4eb262c374a4/lib/python3.11/site-packages/databricks/rag_eval/context.py:204\u001B[0m, in \u001B[0;36meval_context.<locals>.wrapper\u001B[0;34m(*args, **kwargs)\u001B[0m\n",
       "\u001B[1;32m    201\u001B[0m result \u001B[38;5;241m=\u001B[39m \u001B[38;5;28;01mNone\u001B[39;00m\n",
       "\u001B[1;32m    203\u001B[0m \u001B[38;5;28;01mtry\u001B[39;00m:\n",
       "\u001B[0;32m--> 204\u001B[0m     result \u001B[38;5;241m=\u001B[39m func(\u001B[38;5;241m*\u001B[39margs, \u001B[38;5;241m*\u001B[39m\u001B[38;5;241m*\u001B[39mkwargs)\n",
       "\u001B[1;32m    205\u001B[0m \u001B[38;5;28;01mexcept\u001B[39;00m \u001B[38;5;167;01mException\u001B[39;00m \u001B[38;5;28;01mas\u001B[39;00m e:  \u001B[38;5;66;03m# pylint: disable=broad-except\u001B[39;00m\n",
       "\u001B[1;32m    206\u001B[0m     error \u001B[38;5;241m=\u001B[39m e\n",
       "\n",
       "File \u001B[0;32m/local_disk0/.ephemeral_nfs/envs/pythonEnv-b0aad590-f0d1-40f6-9f77-4eb262c374a4/lib/python3.11/site-packages/databricks/rag_eval/monitoring/api.py:272\u001B[0m, in \u001B[0;36mget_monitor\u001B[0;34m(identifier, endpoint_name, monitoring_table)\u001B[0m\n",
       "\u001B[1;32m    254\u001B[0m \u001B[38;5;129m@context\u001B[39m\u001B[38;5;241m.\u001B[39meval_context\n",
       "\u001B[1;32m    255\u001B[0m \u001B[38;5;28;01mdef\u001B[39;00m \u001B[38;5;21mget_monitor\u001B[39m(\n",
       "\u001B[1;32m    256\u001B[0m     identifier: \u001B[38;5;28mstr\u001B[39m \u001B[38;5;241m|\u001B[39m \u001B[38;5;28;01mNone\u001B[39;00m \u001B[38;5;241m=\u001B[39m \u001B[38;5;28;01mNone\u001B[39;00m,\n",
       "\u001B[0;32m   (...)\u001B[0m\n",
       "\u001B[1;32m    259\u001B[0m     monitoring_table: \u001B[38;5;28mstr\u001B[39m \u001B[38;5;241m|\u001B[39m \u001B[38;5;28;01mNone\u001B[39;00m \u001B[38;5;241m=\u001B[39m \u001B[38;5;28;01mNone\u001B[39;00m,\n",
       "\u001B[1;32m    260\u001B[0m ) \u001B[38;5;241m-\u001B[39m\u001B[38;5;241m>\u001B[39m entities\u001B[38;5;241m.\u001B[39mMonitor \u001B[38;5;241m|\u001B[39m entities\u001B[38;5;241m.\u001B[39mExternalMonitor:\n",
       "\u001B[1;32m    261\u001B[0m \u001B[38;5;250m    \u001B[39m\u001B[38;5;124;03m\"\"\"\u001B[39;00m\n",
       "\u001B[1;32m    262\u001B[0m \u001B[38;5;124;03m    Retrieves a monitor for a serving endpoint.\u001B[39;00m\n",
       "\u001B[1;32m    263\u001B[0m \n",
       "\u001B[0;32m   (...)\u001B[0m\n",
       "\u001B[1;32m    270\u001B[0m \u001B[38;5;124;03m        Monitor | ExternalMonitor metadata. For external monitors, this will include the status of the ingestion endpoint.\u001B[39;00m\n",
       "\u001B[1;32m    271\u001B[0m \u001B[38;5;124;03m    \"\"\"\u001B[39;00m\n",
       "\u001B[0;32m--> 272\u001B[0m     monitor \u001B[38;5;241m=\u001B[39m _get_monitor_internal(\n",
       "\u001B[1;32m    273\u001B[0m         identifier\u001B[38;5;241m=\u001B[39midentifier,\n",
       "\u001B[1;32m    274\u001B[0m         endpoint_name\u001B[38;5;241m=\u001B[39mendpoint_name,\n",
       "\u001B[1;32m    275\u001B[0m         monitoring_table\u001B[38;5;241m=\u001B[39mmonitoring_table,\n",
       "\u001B[1;32m    276\u001B[0m     )\n",
       "\u001B[1;32m    277\u001B[0m     \u001B[38;5;28mprint\u001B[39m(\u001B[38;5;124m\"\u001B[39m\u001B[38;5;124mMonitor URL: \u001B[39m\u001B[38;5;124m\"\u001B[39m, monitor\u001B[38;5;241m.\u001B[39mmonitoring_page_url)\n",
       "\u001B[1;32m    278\u001B[0m     \u001B[38;5;28;01mreturn\u001B[39;00m monitor\n",
       "\n",
       "File \u001B[0;32m/local_disk0/.ephemeral_nfs/envs/pythonEnv-b0aad590-f0d1-40f6-9f77-4eb262c374a4/lib/python3.11/site-packages/databricks/rag_eval/context.py:213\u001B[0m, in \u001B[0;36meval_context.<locals>.wrapper\u001B[0;34m(*args, **kwargs)\u001B[0m\n",
       "\u001B[1;32m    211\u001B[0m \u001B[38;5;66;03m# Raise the original error if there was one, otherwise return\u001B[39;00m\n",
       "\u001B[1;32m    212\u001B[0m \u001B[38;5;28;01mif\u001B[39;00m error \u001B[38;5;129;01mis\u001B[39;00m \u001B[38;5;129;01mnot\u001B[39;00m \u001B[38;5;28;01mNone\u001B[39;00m:\n",
       "\u001B[0;32m--> 213\u001B[0m     \u001B[38;5;28;01mraise\u001B[39;00m error\n",
       "\u001B[1;32m    214\u001B[0m \u001B[38;5;28;01melse\u001B[39;00m:\n",
       "\u001B[1;32m    215\u001B[0m     \u001B[38;5;28;01mreturn\u001B[39;00m result\n",
       "\n",
       "File \u001B[0;32m/local_disk0/.ephemeral_nfs/envs/pythonEnv-b0aad590-f0d1-40f6-9f77-4eb262c374a4/lib/python3.11/site-packages/databricks/rag_eval/context.py:204\u001B[0m, in \u001B[0;36meval_context.<locals>.wrapper\u001B[0;34m(*args, **kwargs)\u001B[0m\n",
       "\u001B[1;32m    201\u001B[0m result \u001B[38;5;241m=\u001B[39m \u001B[38;5;28;01mNone\u001B[39;00m\n",
       "\u001B[1;32m    203\u001B[0m \u001B[38;5;28;01mtry\u001B[39;00m:\n",
       "\u001B[0;32m--> 204\u001B[0m     result \u001B[38;5;241m=\u001B[39m func(\u001B[38;5;241m*\u001B[39margs, \u001B[38;5;241m*\u001B[39m\u001B[38;5;241m*\u001B[39mkwargs)\n",
       "\u001B[1;32m    205\u001B[0m \u001B[38;5;28;01mexcept\u001B[39;00m \u001B[38;5;167;01mException\u001B[39;00m \u001B[38;5;28;01mas\u001B[39;00m e:  \u001B[38;5;66;03m# pylint: disable=broad-except\u001B[39;00m\n",
       "\u001B[1;32m    206\u001B[0m     error \u001B[38;5;241m=\u001B[39m e\n",
       "\n",
       "File \u001B[0;32m/local_disk0/.ephemeral_nfs/envs/pythonEnv-b0aad590-f0d1-40f6-9f77-4eb262c374a4/lib/python3.11/site-packages/databricks/rag_eval/monitoring/api.py:295\u001B[0m, in \u001B[0;36m_get_monitor_internal\u001B[0;34m(identifier, endpoint_name, monitoring_table)\u001B[0m\n",
       "\u001B[1;32m    292\u001B[0m     endpoint_name \u001B[38;5;241m=\u001B[39m identifier\n",
       "\u001B[1;32m    293\u001B[0m     _warn_identifier_deprecation(\u001B[38;5;124m\"\u001B[39m\u001B[38;5;124mget_monitor\u001B[39m\u001B[38;5;124m\"\u001B[39m)\n",
       "\u001B[0;32m--> 295\u001B[0m \u001B[38;5;28;01mreturn\u001B[39;00m _get_managed_evals_client()\u001B[38;5;241m.\u001B[39mget_monitor(\n",
       "\u001B[1;32m    296\u001B[0m     endpoint_name\u001B[38;5;241m=\u001B[39mendpoint_name,\n",
       "\u001B[1;32m    297\u001B[0m     monitoring_table\u001B[38;5;241m=\u001B[39mmonitoring_table,\n",
       "\u001B[1;32m    298\u001B[0m )\n",
       "\n",
       "File \u001B[0;32m/local_disk0/.ephemeral_nfs/envs/pythonEnv-b0aad590-f0d1-40f6-9f77-4eb262c374a4/lib/python3.11/site-packages/databricks/rag_eval/clients/managedevals/managed_evals_client.py:849\u001B[0m, in \u001B[0;36mManagedEvalsClient.get_monitor\u001B[0;34m(self, endpoint_name, monitoring_table)\u001B[0m\n",
       "\u001B[1;32m    842\u001B[0m \u001B[38;5;28;01mwith\u001B[39;00m \u001B[38;5;28mself\u001B[39m\u001B[38;5;241m.\u001B[39mget_default_request_session(\n",
       "\u001B[1;32m    843\u001B[0m     headers\u001B[38;5;241m=\u001B[39m_get_default_headers()\n",
       "\u001B[1;32m    844\u001B[0m ) \u001B[38;5;28;01mas\u001B[39;00m session:\n",
       "\u001B[1;32m    845\u001B[0m     response \u001B[38;5;241m=\u001B[39m session\u001B[38;5;241m.\u001B[39mget(\n",
       "\u001B[1;32m    846\u001B[0m         url\u001B[38;5;241m=\u001B[39m\u001B[38;5;28mself\u001B[39m\u001B[38;5;241m.\u001B[39mget_method_url(\u001B[38;5;124mf\u001B[39m\u001B[38;5;124m\"\u001B[39m\u001B[38;5;124m/managed-evals/\u001B[39m\u001B[38;5;132;01m{\u001B[39;00murlpath\u001B[38;5;132;01m}\u001B[39;00m\u001B[38;5;124m\"\u001B[39m),\n",
       "\u001B[1;32m    847\u001B[0m         json\u001B[38;5;241m=\u001B[39mrequest_body,\n",
       "\u001B[1;32m    848\u001B[0m     )\n",
       "\u001B[0;32m--> 849\u001B[0m _raise_for_status(response)\n",
       "\u001B[1;32m    851\u001B[0m monitor_info_rest \u001B[38;5;241m=\u001B[39m rest_entities\u001B[38;5;241m.\u001B[39mMonitorInfo\u001B[38;5;241m.\u001B[39mfrom_dict(\n",
       "\u001B[1;32m    852\u001B[0m     response\u001B[38;5;241m.\u001B[39mjson(), infer_missing\u001B[38;5;241m=\u001B[39m\u001B[38;5;28;01mTrue\u001B[39;00m\n",
       "\u001B[1;32m    853\u001B[0m )\n",
       "\u001B[1;32m    855\u001B[0m \u001B[38;5;28;01mif\u001B[39;00m monitor_info_rest\u001B[38;5;241m.\u001B[39mis_external:\n",
       "\n",
       "File \u001B[0;32m/local_disk0/.ephemeral_nfs/envs/pythonEnv-b0aad590-f0d1-40f6-9f77-4eb262c374a4/lib/python3.11/site-packages/databricks/rag_eval/clients/managedevals/managed_evals_client.py:92\u001B[0m, in \u001B[0;36m_raise_for_status\u001B[0;34m(resp)\u001B[0m\n",
       "\u001B[1;32m     88\u001B[0m \u001B[38;5;28;01melif\u001B[39;00m \u001B[38;5;241m500\u001B[39m \u001B[38;5;241m<\u001B[39m\u001B[38;5;241m=\u001B[39m resp\u001B[38;5;241m.\u001B[39mstatus_code \u001B[38;5;241m<\u001B[39m \u001B[38;5;241m600\u001B[39m:\n",
       "\u001B[1;32m     89\u001B[0m     http_error_msg \u001B[38;5;241m=\u001B[39m (\n",
       "\u001B[1;32m     90\u001B[0m         \u001B[38;5;124mf\u001B[39m\u001B[38;5;124m\"\u001B[39m\u001B[38;5;132;01m{\u001B[39;00mresp\u001B[38;5;241m.\u001B[39mstatus_code\u001B[38;5;132;01m}\u001B[39;00m\u001B[38;5;124m Server Error: \u001B[39m\u001B[38;5;132;01m{\u001B[39;00mresp\u001B[38;5;241m.\u001B[39mreason\u001B[38;5;132;01m}\u001B[39;00m\u001B[38;5;130;01m\\n\u001B[39;00m\u001B[38;5;132;01m{\u001B[39;00mresp\u001B[38;5;241m.\u001B[39mtext\u001B[38;5;132;01m}\u001B[39;00m\u001B[38;5;124m. \u001B[39m\u001B[38;5;124m\"\u001B[39m\n",
       "\u001B[1;32m     91\u001B[0m     )\n",
       "\u001B[0;32m---> 92\u001B[0m \u001B[38;5;28;01mraise\u001B[39;00m requests\u001B[38;5;241m.\u001B[39mHTTPError(http_error_msg, response\u001B[38;5;241m=\u001B[39mresp)\n",
       "\n",
       "\u001B[0;31mHTTPError\u001B[0m: 403 Client Error: Forbidden\n",
       "{\"error_code\":\"PERMISSION_DENIED\",\"message\":\"Access denied: This feature has not been enabled for this workspace.\"}. "
      ]
     },
     "metadata": {
      "application/vnd.databricks.v1+output": {
       "addedWidgets": {},
       "arguments": {},
       "datasetInfos": [],
       "jupyterProps": {
        "ename": "HTTPError",
        "evalue": "403 Client Error: Forbidden\n{\"error_code\":\"PERMISSION_DENIED\",\"message\":\"Access denied: This feature has not been enabled for this workspace.\"}. "
       },
       "metadata": {
        "errorSummary": "<span class='ansi-red-fg'>HTTPError</span>: 403 Client Error: Forbidden\n{\"error_code\":\"PERMISSION_DENIED\",\"message\":\"Access denied: This feature has not been enabled for this workspace.\"}. "
       },
       "removedWidgets": [],
       "sqlProps": null,
       "stackFrames": [
        "\u001B[0;31m---------------------------------------------------------------------------\u001B[0m",
        "\u001B[0;31mHTTPError\u001B[0m                                 Traceback (most recent call last)",
        "File \u001B[0;32m<command-3244118383093086>, line 4\u001B[0m\n\u001B[1;32m      1\u001B[0m \u001B[38;5;28;01mfrom\u001B[39;00m \u001B[38;5;21;01mdatabricks\u001B[39;00m\u001B[38;5;21;01m.\u001B[39;00m\u001B[38;5;21;01magents\u001B[39;00m\u001B[38;5;21;01m.\u001B[39;00m\u001B[38;5;21;01mevals\u001B[39;00m\u001B[38;5;21;01m.\u001B[39;00m\u001B[38;5;21;01mmonitors\u001B[39;00m \u001B[38;5;28;01mimport\u001B[39;00m create_monitor, update_monitor, get_monitor\n\u001B[1;32m      3\u001B[0m \u001B[38;5;28mprint\u001B[39m(deployment[\u001B[38;5;241m0\u001B[39m]\u001B[38;5;241m.\u001B[39mendpoint_name)\n\u001B[0;32m----> 4\u001B[0m get_monitor(endpoint_name\u001B[38;5;241m=\u001B[39mdeployment[\u001B[38;5;241m0\u001B[39m]\u001B[38;5;241m.\u001B[39mendpoint_name)\n",
        "File \u001B[0;32m/local_disk0/.ephemeral_nfs/envs/pythonEnv-b0aad590-f0d1-40f6-9f77-4eb262c374a4/lib/python3.11/site-packages/databricks/rag_eval/context.py:213\u001B[0m, in \u001B[0;36meval_context.<locals>.wrapper\u001B[0;34m(*args, **kwargs)\u001B[0m\n\u001B[1;32m    211\u001B[0m \u001B[38;5;66;03m# Raise the original error if there was one, otherwise return\u001B[39;00m\n\u001B[1;32m    212\u001B[0m \u001B[38;5;28;01mif\u001B[39;00m error \u001B[38;5;129;01mis\u001B[39;00m \u001B[38;5;129;01mnot\u001B[39;00m \u001B[38;5;28;01mNone\u001B[39;00m:\n\u001B[0;32m--> 213\u001B[0m     \u001B[38;5;28;01mraise\u001B[39;00m error\n\u001B[1;32m    214\u001B[0m \u001B[38;5;28;01melse\u001B[39;00m:\n\u001B[1;32m    215\u001B[0m     \u001B[38;5;28;01mreturn\u001B[39;00m result\n",
        "File \u001B[0;32m/local_disk0/.ephemeral_nfs/envs/pythonEnv-b0aad590-f0d1-40f6-9f77-4eb262c374a4/lib/python3.11/site-packages/databricks/rag_eval/context.py:204\u001B[0m, in \u001B[0;36meval_context.<locals>.wrapper\u001B[0;34m(*args, **kwargs)\u001B[0m\n\u001B[1;32m    201\u001B[0m result \u001B[38;5;241m=\u001B[39m \u001B[38;5;28;01mNone\u001B[39;00m\n\u001B[1;32m    203\u001B[0m \u001B[38;5;28;01mtry\u001B[39;00m:\n\u001B[0;32m--> 204\u001B[0m     result \u001B[38;5;241m=\u001B[39m func(\u001B[38;5;241m*\u001B[39margs, \u001B[38;5;241m*\u001B[39m\u001B[38;5;241m*\u001B[39mkwargs)\n\u001B[1;32m    205\u001B[0m \u001B[38;5;28;01mexcept\u001B[39;00m \u001B[38;5;167;01mException\u001B[39;00m \u001B[38;5;28;01mas\u001B[39;00m e:  \u001B[38;5;66;03m# pylint: disable=broad-except\u001B[39;00m\n\u001B[1;32m    206\u001B[0m     error \u001B[38;5;241m=\u001B[39m e\n",
        "File \u001B[0;32m/local_disk0/.ephemeral_nfs/envs/pythonEnv-b0aad590-f0d1-40f6-9f77-4eb262c374a4/lib/python3.11/site-packages/databricks/rag_eval/monitoring/api.py:272\u001B[0m, in \u001B[0;36mget_monitor\u001B[0;34m(identifier, endpoint_name, monitoring_table)\u001B[0m\n\u001B[1;32m    254\u001B[0m \u001B[38;5;129m@context\u001B[39m\u001B[38;5;241m.\u001B[39meval_context\n\u001B[1;32m    255\u001B[0m \u001B[38;5;28;01mdef\u001B[39;00m \u001B[38;5;21mget_monitor\u001B[39m(\n\u001B[1;32m    256\u001B[0m     identifier: \u001B[38;5;28mstr\u001B[39m \u001B[38;5;241m|\u001B[39m \u001B[38;5;28;01mNone\u001B[39;00m \u001B[38;5;241m=\u001B[39m \u001B[38;5;28;01mNone\u001B[39;00m,\n\u001B[0;32m   (...)\u001B[0m\n\u001B[1;32m    259\u001B[0m     monitoring_table: \u001B[38;5;28mstr\u001B[39m \u001B[38;5;241m|\u001B[39m \u001B[38;5;28;01mNone\u001B[39;00m \u001B[38;5;241m=\u001B[39m \u001B[38;5;28;01mNone\u001B[39;00m,\n\u001B[1;32m    260\u001B[0m ) \u001B[38;5;241m-\u001B[39m\u001B[38;5;241m>\u001B[39m entities\u001B[38;5;241m.\u001B[39mMonitor \u001B[38;5;241m|\u001B[39m entities\u001B[38;5;241m.\u001B[39mExternalMonitor:\n\u001B[1;32m    261\u001B[0m \u001B[38;5;250m    \u001B[39m\u001B[38;5;124;03m\"\"\"\u001B[39;00m\n\u001B[1;32m    262\u001B[0m \u001B[38;5;124;03m    Retrieves a monitor for a serving endpoint.\u001B[39;00m\n\u001B[1;32m    263\u001B[0m \n\u001B[0;32m   (...)\u001B[0m\n\u001B[1;32m    270\u001B[0m \u001B[38;5;124;03m        Monitor | ExternalMonitor metadata. For external monitors, this will include the status of the ingestion endpoint.\u001B[39;00m\n\u001B[1;32m    271\u001B[0m \u001B[38;5;124;03m    \"\"\"\u001B[39;00m\n\u001B[0;32m--> 272\u001B[0m     monitor \u001B[38;5;241m=\u001B[39m _get_monitor_internal(\n\u001B[1;32m    273\u001B[0m         identifier\u001B[38;5;241m=\u001B[39midentifier,\n\u001B[1;32m    274\u001B[0m         endpoint_name\u001B[38;5;241m=\u001B[39mendpoint_name,\n\u001B[1;32m    275\u001B[0m         monitoring_table\u001B[38;5;241m=\u001B[39mmonitoring_table,\n\u001B[1;32m    276\u001B[0m     )\n\u001B[1;32m    277\u001B[0m     \u001B[38;5;28mprint\u001B[39m(\u001B[38;5;124m\"\u001B[39m\u001B[38;5;124mMonitor URL: \u001B[39m\u001B[38;5;124m\"\u001B[39m, monitor\u001B[38;5;241m.\u001B[39mmonitoring_page_url)\n\u001B[1;32m    278\u001B[0m     \u001B[38;5;28;01mreturn\u001B[39;00m monitor\n",
        "File \u001B[0;32m/local_disk0/.ephemeral_nfs/envs/pythonEnv-b0aad590-f0d1-40f6-9f77-4eb262c374a4/lib/python3.11/site-packages/databricks/rag_eval/context.py:213\u001B[0m, in \u001B[0;36meval_context.<locals>.wrapper\u001B[0;34m(*args, **kwargs)\u001B[0m\n\u001B[1;32m    211\u001B[0m \u001B[38;5;66;03m# Raise the original error if there was one, otherwise return\u001B[39;00m\n\u001B[1;32m    212\u001B[0m \u001B[38;5;28;01mif\u001B[39;00m error \u001B[38;5;129;01mis\u001B[39;00m \u001B[38;5;129;01mnot\u001B[39;00m \u001B[38;5;28;01mNone\u001B[39;00m:\n\u001B[0;32m--> 213\u001B[0m     \u001B[38;5;28;01mraise\u001B[39;00m error\n\u001B[1;32m    214\u001B[0m \u001B[38;5;28;01melse\u001B[39;00m:\n\u001B[1;32m    215\u001B[0m     \u001B[38;5;28;01mreturn\u001B[39;00m result\n",
        "File \u001B[0;32m/local_disk0/.ephemeral_nfs/envs/pythonEnv-b0aad590-f0d1-40f6-9f77-4eb262c374a4/lib/python3.11/site-packages/databricks/rag_eval/context.py:204\u001B[0m, in \u001B[0;36meval_context.<locals>.wrapper\u001B[0;34m(*args, **kwargs)\u001B[0m\n\u001B[1;32m    201\u001B[0m result \u001B[38;5;241m=\u001B[39m \u001B[38;5;28;01mNone\u001B[39;00m\n\u001B[1;32m    203\u001B[0m \u001B[38;5;28;01mtry\u001B[39;00m:\n\u001B[0;32m--> 204\u001B[0m     result \u001B[38;5;241m=\u001B[39m func(\u001B[38;5;241m*\u001B[39margs, \u001B[38;5;241m*\u001B[39m\u001B[38;5;241m*\u001B[39mkwargs)\n\u001B[1;32m    205\u001B[0m \u001B[38;5;28;01mexcept\u001B[39;00m \u001B[38;5;167;01mException\u001B[39;00m \u001B[38;5;28;01mas\u001B[39;00m e:  \u001B[38;5;66;03m# pylint: disable=broad-except\u001B[39;00m\n\u001B[1;32m    206\u001B[0m     error \u001B[38;5;241m=\u001B[39m e\n",
        "File \u001B[0;32m/local_disk0/.ephemeral_nfs/envs/pythonEnv-b0aad590-f0d1-40f6-9f77-4eb262c374a4/lib/python3.11/site-packages/databricks/rag_eval/monitoring/api.py:295\u001B[0m, in \u001B[0;36m_get_monitor_internal\u001B[0;34m(identifier, endpoint_name, monitoring_table)\u001B[0m\n\u001B[1;32m    292\u001B[0m     endpoint_name \u001B[38;5;241m=\u001B[39m identifier\n\u001B[1;32m    293\u001B[0m     _warn_identifier_deprecation(\u001B[38;5;124m\"\u001B[39m\u001B[38;5;124mget_monitor\u001B[39m\u001B[38;5;124m\"\u001B[39m)\n\u001B[0;32m--> 295\u001B[0m \u001B[38;5;28;01mreturn\u001B[39;00m _get_managed_evals_client()\u001B[38;5;241m.\u001B[39mget_monitor(\n\u001B[1;32m    296\u001B[0m     endpoint_name\u001B[38;5;241m=\u001B[39mendpoint_name,\n\u001B[1;32m    297\u001B[0m     monitoring_table\u001B[38;5;241m=\u001B[39mmonitoring_table,\n\u001B[1;32m    298\u001B[0m )\n",
        "File \u001B[0;32m/local_disk0/.ephemeral_nfs/envs/pythonEnv-b0aad590-f0d1-40f6-9f77-4eb262c374a4/lib/python3.11/site-packages/databricks/rag_eval/clients/managedevals/managed_evals_client.py:849\u001B[0m, in \u001B[0;36mManagedEvalsClient.get_monitor\u001B[0;34m(self, endpoint_name, monitoring_table)\u001B[0m\n\u001B[1;32m    842\u001B[0m \u001B[38;5;28;01mwith\u001B[39;00m \u001B[38;5;28mself\u001B[39m\u001B[38;5;241m.\u001B[39mget_default_request_session(\n\u001B[1;32m    843\u001B[0m     headers\u001B[38;5;241m=\u001B[39m_get_default_headers()\n\u001B[1;32m    844\u001B[0m ) \u001B[38;5;28;01mas\u001B[39;00m session:\n\u001B[1;32m    845\u001B[0m     response \u001B[38;5;241m=\u001B[39m session\u001B[38;5;241m.\u001B[39mget(\n\u001B[1;32m    846\u001B[0m         url\u001B[38;5;241m=\u001B[39m\u001B[38;5;28mself\u001B[39m\u001B[38;5;241m.\u001B[39mget_method_url(\u001B[38;5;124mf\u001B[39m\u001B[38;5;124m\"\u001B[39m\u001B[38;5;124m/managed-evals/\u001B[39m\u001B[38;5;132;01m{\u001B[39;00murlpath\u001B[38;5;132;01m}\u001B[39;00m\u001B[38;5;124m\"\u001B[39m),\n\u001B[1;32m    847\u001B[0m         json\u001B[38;5;241m=\u001B[39mrequest_body,\n\u001B[1;32m    848\u001B[0m     )\n\u001B[0;32m--> 849\u001B[0m _raise_for_status(response)\n\u001B[1;32m    851\u001B[0m monitor_info_rest \u001B[38;5;241m=\u001B[39m rest_entities\u001B[38;5;241m.\u001B[39mMonitorInfo\u001B[38;5;241m.\u001B[39mfrom_dict(\n\u001B[1;32m    852\u001B[0m     response\u001B[38;5;241m.\u001B[39mjson(), infer_missing\u001B[38;5;241m=\u001B[39m\u001B[38;5;28;01mTrue\u001B[39;00m\n\u001B[1;32m    853\u001B[0m )\n\u001B[1;32m    855\u001B[0m \u001B[38;5;28;01mif\u001B[39;00m monitor_info_rest\u001B[38;5;241m.\u001B[39mis_external:\n",
        "File \u001B[0;32m/local_disk0/.ephemeral_nfs/envs/pythonEnv-b0aad590-f0d1-40f6-9f77-4eb262c374a4/lib/python3.11/site-packages/databricks/rag_eval/clients/managedevals/managed_evals_client.py:92\u001B[0m, in \u001B[0;36m_raise_for_status\u001B[0;34m(resp)\u001B[0m\n\u001B[1;32m     88\u001B[0m \u001B[38;5;28;01melif\u001B[39;00m \u001B[38;5;241m500\u001B[39m \u001B[38;5;241m<\u001B[39m\u001B[38;5;241m=\u001B[39m resp\u001B[38;5;241m.\u001B[39mstatus_code \u001B[38;5;241m<\u001B[39m \u001B[38;5;241m600\u001B[39m:\n\u001B[1;32m     89\u001B[0m     http_error_msg \u001B[38;5;241m=\u001B[39m (\n\u001B[1;32m     90\u001B[0m         \u001B[38;5;124mf\u001B[39m\u001B[38;5;124m\"\u001B[39m\u001B[38;5;132;01m{\u001B[39;00mresp\u001B[38;5;241m.\u001B[39mstatus_code\u001B[38;5;132;01m}\u001B[39;00m\u001B[38;5;124m Server Error: \u001B[39m\u001B[38;5;132;01m{\u001B[39;00mresp\u001B[38;5;241m.\u001B[39mreason\u001B[38;5;132;01m}\u001B[39;00m\u001B[38;5;130;01m\\n\u001B[39;00m\u001B[38;5;132;01m{\u001B[39;00mresp\u001B[38;5;241m.\u001B[39mtext\u001B[38;5;132;01m}\u001B[39;00m\u001B[38;5;124m. \u001B[39m\u001B[38;5;124m\"\u001B[39m\n\u001B[1;32m     91\u001B[0m     )\n\u001B[0;32m---> 92\u001B[0m \u001B[38;5;28;01mraise\u001B[39;00m requests\u001B[38;5;241m.\u001B[39mHTTPError(http_error_msg, response\u001B[38;5;241m=\u001B[39mresp)\n",
        "\u001B[0;31mHTTPError\u001B[0m: 403 Client Error: Forbidden\n{\"error_code\":\"PERMISSION_DENIED\",\"message\":\"Access denied: This feature has not been enabled for this workspace.\"}. "
       ],
       "type": "baseError"
      }
     },
     "output_type": "display_data"
    }
   ],
   "source": [
    "from databricks.agents.evals.monitors import create_monitor, update_monitor, get_monitor\n",
    "\n",
    "print(deployment[0].endpoint_name)\n",
    "get_monitor(endpoint_name=deployment[0].endpoint_name)"
   ]
  },
  {
   "cell_type": "code",
   "execution_count": 0,
   "metadata": {
    "application/vnd.databricks.v1+cell": {
     "cellMetadata": {
      "byteLimit": 2048000,
      "rowLimit": 10000
     },
     "inputWidgets": {},
     "nuid": "5ebfaa38-7ee8-44b3-b01f-6e7f4382a4f0",
     "showTitle": false,
     "tableResultSettingsMap": {},
     "title": ""
    }
   },
   "outputs": [
    {
     "output_type": "display_data",
     "data": {
      "text/plain": [
       "\u001B[0;31m---------------------------------------------------------------------------\u001B[0m\n",
       "\u001B[0;31mHTTPError\u001B[0m                                 Traceback (most recent call last)\n",
       "File \u001B[0;32m<command-3244118383088282>, line 3\u001B[0m\n",
       "\u001B[1;32m      1\u001B[0m \u001B[38;5;28;01mfrom\u001B[39;00m \u001B[38;5;21;01mdatabricks\u001B[39;00m\u001B[38;5;21;01m.\u001B[39;00m\u001B[38;5;21;01magents\u001B[39;00m\u001B[38;5;21;01m.\u001B[39;00m\u001B[38;5;21;01mevals\u001B[39;00m\u001B[38;5;21;01m.\u001B[39;00m\u001B[38;5;21;01mmonitors\u001B[39;00m \u001B[38;5;28;01mimport\u001B[39;00m create_monitor, update_monitor, get_monitor\n",
       "\u001B[0;32m----> 3\u001B[0m monitor_cs_agent \u001B[38;5;241m=\u001B[39m create_monitor(\n",
       "\u001B[1;32m      4\u001B[0m     endpoint_name \u001B[38;5;241m=\u001B[39m deployment[\u001B[38;5;241m0\u001B[39m]\u001B[38;5;241m.\u001B[39mendpoint_name,\n",
       "\u001B[1;32m      5\u001B[0m     monitoring_config \u001B[38;5;241m=\u001B[39m {\n",
       "\u001B[1;32m      6\u001B[0m         \u001B[38;5;124m\"\u001B[39m\u001B[38;5;124msample\u001B[39m\u001B[38;5;124m\"\u001B[39m: \u001B[38;5;241m0.01\u001B[39m,  \u001B[38;5;66;03m# Sample 1% of requests\u001B[39;00m\n",
       "\u001B[1;32m      7\u001B[0m         \u001B[38;5;124m\"\u001B[39m\u001B[38;5;124mmetrics\u001B[39m\u001B[38;5;124m\"\u001B[39m: [\u001B[38;5;124m'\u001B[39m\u001B[38;5;124mguideline_adherence\u001B[39m\u001B[38;5;124m'\u001B[39m, \u001B[38;5;124m'\u001B[39m\u001B[38;5;124mgroundedness\u001B[39m\u001B[38;5;124m'\u001B[39m, \u001B[38;5;124m'\u001B[39m\u001B[38;5;124msafety\u001B[39m\u001B[38;5;124m'\u001B[39m, \u001B[38;5;124m'\u001B[39m\u001B[38;5;124mrelevance_to_query\u001B[39m\u001B[38;5;124m'\u001B[39m],\n",
       "\u001B[1;32m      8\u001B[0m         \u001B[38;5;124m\"\u001B[39m\u001B[38;5;124mglobal_guidelines\u001B[39m\u001B[38;5;124m\"\u001B[39m: {\n",
       "\u001B[1;32m      9\u001B[0m             \u001B[38;5;124m\"\u001B[39m\u001B[38;5;124menglish\u001B[39m\u001B[38;5;124m\"\u001B[39m: [\u001B[38;5;124m\"\u001B[39m\u001B[38;5;124mThe response must be in English\u001B[39m\u001B[38;5;124m\"\u001B[39m],\n",
       "\u001B[1;32m     10\u001B[0m             \u001B[38;5;124m\"\u001B[39m\u001B[38;5;124mclarity\u001B[39m\u001B[38;5;124m\"\u001B[39m: [\u001B[38;5;124m\"\u001B[39m\u001B[38;5;124mThe response must be clear, coherent, and concise\u001B[39m\u001B[38;5;124m\"\u001B[39m],\n",
       "\u001B[1;32m     11\u001B[0m         }\n",
       "\u001B[1;32m     12\u001B[0m     }\n",
       "\u001B[1;32m     13\u001B[0m )\n",
       "\n",
       "File \u001B[0;32m/local_disk0/.ephemeral_nfs/envs/pythonEnv-b0aad590-f0d1-40f6-9f77-4eb262c374a4/lib/python3.11/site-packages/databricks/rag_eval/context.py:213\u001B[0m, in \u001B[0;36meval_context.<locals>.wrapper\u001B[0;34m(*args, **kwargs)\u001B[0m\n",
       "\u001B[1;32m    211\u001B[0m \u001B[38;5;66;03m# Raise the original error if there was one, otherwise return\u001B[39;00m\n",
       "\u001B[1;32m    212\u001B[0m \u001B[38;5;28;01mif\u001B[39;00m error \u001B[38;5;129;01mis\u001B[39;00m \u001B[38;5;129;01mnot\u001B[39;00m \u001B[38;5;28;01mNone\u001B[39;00m:\n",
       "\u001B[0;32m--> 213\u001B[0m     \u001B[38;5;28;01mraise\u001B[39;00m error\n",
       "\u001B[1;32m    214\u001B[0m \u001B[38;5;28;01melse\u001B[39;00m:\n",
       "\u001B[1;32m    215\u001B[0m     \u001B[38;5;28;01mreturn\u001B[39;00m result\n",
       "\n",
       "File \u001B[0;32m/local_disk0/.ephemeral_nfs/envs/pythonEnv-b0aad590-f0d1-40f6-9f77-4eb262c374a4/lib/python3.11/site-packages/databricks/rag_eval/context.py:204\u001B[0m, in \u001B[0;36meval_context.<locals>.wrapper\u001B[0;34m(*args, **kwargs)\u001B[0m\n",
       "\u001B[1;32m    201\u001B[0m result \u001B[38;5;241m=\u001B[39m \u001B[38;5;28;01mNone\u001B[39;00m\n",
       "\u001B[1;32m    203\u001B[0m \u001B[38;5;28;01mtry\u001B[39;00m:\n",
       "\u001B[0;32m--> 204\u001B[0m     result \u001B[38;5;241m=\u001B[39m func(\u001B[38;5;241m*\u001B[39margs, \u001B[38;5;241m*\u001B[39m\u001B[38;5;241m*\u001B[39mkwargs)\n",
       "\u001B[1;32m    205\u001B[0m \u001B[38;5;28;01mexcept\u001B[39;00m \u001B[38;5;167;01mException\u001B[39;00m \u001B[38;5;28;01mas\u001B[39;00m e:  \u001B[38;5;66;03m# pylint: disable=broad-except\u001B[39;00m\n",
       "\u001B[1;32m    206\u001B[0m     error \u001B[38;5;241m=\u001B[39m e\n",
       "\n",
       "File \u001B[0;32m/local_disk0/.ephemeral_nfs/envs/pythonEnv-b0aad590-f0d1-40f6-9f77-4eb262c374a4/lib/python3.11/site-packages/databricks/rag_eval/monitoring/api.py:115\u001B[0m, in \u001B[0;36mcreate_monitor\u001B[0;34m(endpoint_name, monitoring_config, experiment_id)\u001B[0m\n",
       "\u001B[1;32m     97\u001B[0m \u001B[38;5;129m@context\u001B[39m\u001B[38;5;241m.\u001B[39meval_context\n",
       "\u001B[1;32m     98\u001B[0m \u001B[38;5;28;01mdef\u001B[39;00m \u001B[38;5;21mcreate_monitor\u001B[39m(\n",
       "\u001B[1;32m     99\u001B[0m     endpoint_name: \u001B[38;5;28mstr\u001B[39m,\n",
       "\u001B[0;32m   (...)\u001B[0m\n",
       "\u001B[1;32m    102\u001B[0m     experiment_id: \u001B[38;5;28mstr\u001B[39m \u001B[38;5;241m|\u001B[39m \u001B[38;5;28;01mNone\u001B[39;00m \u001B[38;5;241m=\u001B[39m \u001B[38;5;28;01mNone\u001B[39;00m,\n",
       "\u001B[1;32m    103\u001B[0m ) \u001B[38;5;241m-\u001B[39m\u001B[38;5;241m>\u001B[39m entities\u001B[38;5;241m.\u001B[39mMonitor:\n",
       "\u001B[1;32m    104\u001B[0m \u001B[38;5;250m    \u001B[39m\u001B[38;5;124;03m\"\"\"\u001B[39;00m\n",
       "\u001B[1;32m    105\u001B[0m \u001B[38;5;124;03m    Create a monitor for a serving endpoint.\u001B[39;00m\n",
       "\u001B[1;32m    106\u001B[0m \n",
       "\u001B[0;32m   (...)\u001B[0m\n",
       "\u001B[1;32m    113\u001B[0m \u001B[38;5;124;03m        The monitor for the serving endpoint.\u001B[39;00m\n",
       "\u001B[1;32m    114\u001B[0m \u001B[38;5;124;03m    \"\"\"\u001B[39;00m\n",
       "\u001B[0;32m--> 115\u001B[0m     monitor \u001B[38;5;241m=\u001B[39m _create_monitor_internal(endpoint_name, monitoring_config, experiment_id)\n",
       "\u001B[1;32m    116\u001B[0m     \u001B[38;5;28mprint\u001B[39m(\u001B[38;5;124mf\u001B[39m\u001B[38;5;124m'\u001B[39m\u001B[38;5;124mCreated monitor for experiment \u001B[39m\u001B[38;5;124m\"\u001B[39m\u001B[38;5;132;01m{\u001B[39;00mmonitor\u001B[38;5;241m.\u001B[39mexperiment_id\u001B[38;5;132;01m}\u001B[39;00m\u001B[38;5;124m\"\u001B[39m\u001B[38;5;124m.\u001B[39m\u001B[38;5;124m'\u001B[39m)\n",
       "\u001B[1;32m    117\u001B[0m     \u001B[38;5;28mprint\u001B[39m(\u001B[38;5;124mf\u001B[39m\u001B[38;5;124m\"\u001B[39m\u001B[38;5;130;01m\\n\u001B[39;00m\u001B[38;5;124mView monitoring page: \u001B[39m\u001B[38;5;132;01m{\u001B[39;00mmonitor\u001B[38;5;241m.\u001B[39mmonitoring_page_url\u001B[38;5;132;01m}\u001B[39;00m\u001B[38;5;124m\"\u001B[39m)\n",
       "\n",
       "File \u001B[0;32m/local_disk0/.ephemeral_nfs/envs/pythonEnv-b0aad590-f0d1-40f6-9f77-4eb262c374a4/lib/python3.11/site-packages/databricks/rag_eval/context.py:213\u001B[0m, in \u001B[0;36meval_context.<locals>.wrapper\u001B[0;34m(*args, **kwargs)\u001B[0m\n",
       "\u001B[1;32m    211\u001B[0m \u001B[38;5;66;03m# Raise the original error if there was one, otherwise return\u001B[39;00m\n",
       "\u001B[1;32m    212\u001B[0m \u001B[38;5;28;01mif\u001B[39;00m error \u001B[38;5;129;01mis\u001B[39;00m \u001B[38;5;129;01mnot\u001B[39;00m \u001B[38;5;28;01mNone\u001B[39;00m:\n",
       "\u001B[0;32m--> 213\u001B[0m     \u001B[38;5;28;01mraise\u001B[39;00m error\n",
       "\u001B[1;32m    214\u001B[0m \u001B[38;5;28;01melse\u001B[39;00m:\n",
       "\u001B[1;32m    215\u001B[0m     \u001B[38;5;28;01mreturn\u001B[39;00m result\n",
       "\n",
       "File \u001B[0;32m/local_disk0/.ephemeral_nfs/envs/pythonEnv-b0aad590-f0d1-40f6-9f77-4eb262c374a4/lib/python3.11/site-packages/databricks/rag_eval/context.py:204\u001B[0m, in \u001B[0;36meval_context.<locals>.wrapper\u001B[0;34m(*args, **kwargs)\u001B[0m\n",
       "\u001B[1;32m    201\u001B[0m result \u001B[38;5;241m=\u001B[39m \u001B[38;5;28;01mNone\u001B[39;00m\n",
       "\u001B[1;32m    203\u001B[0m \u001B[38;5;28;01mtry\u001B[39;00m:\n",
       "\u001B[0;32m--> 204\u001B[0m     result \u001B[38;5;241m=\u001B[39m func(\u001B[38;5;241m*\u001B[39margs, \u001B[38;5;241m*\u001B[39m\u001B[38;5;241m*\u001B[39mkwargs)\n",
       "\u001B[1;32m    205\u001B[0m \u001B[38;5;28;01mexcept\u001B[39;00m \u001B[38;5;167;01mException\u001B[39;00m \u001B[38;5;28;01mas\u001B[39;00m e:  \u001B[38;5;66;03m# pylint: disable=broad-except\u001B[39;00m\n",
       "\u001B[1;32m    206\u001B[0m     error \u001B[38;5;241m=\u001B[39m e\n",
       "\n",
       "File \u001B[0;32m/local_disk0/.ephemeral_nfs/envs/pythonEnv-b0aad590-f0d1-40f6-9f77-4eb262c374a4/lib/python3.11/site-packages/databricks/rag_eval/monitoring/api.py:150\u001B[0m, in \u001B[0;36m_create_monitor_internal\u001B[0;34m(endpoint_name, monitoring_config, experiment_id)\u001B[0m\n",
       "\u001B[1;32m    147\u001B[0m     experiment \u001B[38;5;241m=\u001B[39m mlflow\u001B[38;5;241m.\u001B[39mget_experiment(experiment_id)\n",
       "\u001B[1;32m    149\u001B[0m workspace_path \u001B[38;5;241m=\u001B[39m os\u001B[38;5;241m.\u001B[39mpath\u001B[38;5;241m.\u001B[39mdirname(experiment\u001B[38;5;241m.\u001B[39mname)\n",
       "\u001B[0;32m--> 150\u001B[0m \u001B[38;5;28;01mreturn\u001B[39;00m _get_managed_evals_client()\u001B[38;5;241m.\u001B[39mcreate_monitor(\n",
       "\u001B[1;32m    151\u001B[0m     endpoint_name\u001B[38;5;241m=\u001B[39mendpoint_name,\n",
       "\u001B[1;32m    152\u001B[0m     monitoring_config\u001B[38;5;241m=\u001B[39mmonitoring_config,\n",
       "\u001B[1;32m    153\u001B[0m     experiment_id\u001B[38;5;241m=\u001B[39mexperiment\u001B[38;5;241m.\u001B[39mexperiment_id,\n",
       "\u001B[1;32m    154\u001B[0m     workspace_path\u001B[38;5;241m=\u001B[39mworkspace_path,\n",
       "\u001B[1;32m    155\u001B[0m )\n",
       "\n",
       "File \u001B[0;32m/local_disk0/.ephemeral_nfs/envs/pythonEnv-b0aad590-f0d1-40f6-9f77-4eb262c374a4/lib/python3.11/site-packages/databricks/rag_eval/clients/managedevals/managed_evals_client.py:668\u001B[0m, in \u001B[0;36mManagedEvalsClient.create_monitor\u001B[0;34m(self, endpoint_name, monitoring_config, experiment_id, workspace_path, monitoring_table)\u001B[0m\n",
       "\u001B[1;32m    661\u001B[0m \u001B[38;5;28;01mwith\u001B[39;00m \u001B[38;5;28mself\u001B[39m\u001B[38;5;241m.\u001B[39mget_default_request_session(\n",
       "\u001B[1;32m    662\u001B[0m     headers\u001B[38;5;241m=\u001B[39m_get_default_headers()\n",
       "\u001B[1;32m    663\u001B[0m ) \u001B[38;5;28;01mas\u001B[39;00m session:\n",
       "\u001B[1;32m    664\u001B[0m     response \u001B[38;5;241m=\u001B[39m session\u001B[38;5;241m.\u001B[39mpost(\n",
       "\u001B[1;32m    665\u001B[0m         url\u001B[38;5;241m=\u001B[39m\u001B[38;5;28mself\u001B[39m\u001B[38;5;241m.\u001B[39mget_method_url(\u001B[38;5;124mf\u001B[39m\u001B[38;5;124m\"\u001B[39m\u001B[38;5;124m/managed-evals/monitors/\u001B[39m\u001B[38;5;132;01m{\u001B[39;00mendpoint_name\u001B[38;5;132;01m}\u001B[39;00m\u001B[38;5;124m\"\u001B[39m),\n",
       "\u001B[1;32m    666\u001B[0m         json\u001B[38;5;241m=\u001B[39mrequest_body,\n",
       "\u001B[1;32m    667\u001B[0m     )\n",
       "\u001B[0;32m--> 668\u001B[0m _raise_for_status(response)\n",
       "\u001B[1;32m    669\u001B[0m monitor_info_rest \u001B[38;5;241m=\u001B[39m rest_entities\u001B[38;5;241m.\u001B[39mMonitorInfo\u001B[38;5;241m.\u001B[39mfrom_dict(\n",
       "\u001B[1;32m    670\u001B[0m     response\u001B[38;5;241m.\u001B[39mjson(), infer_missing\u001B[38;5;241m=\u001B[39m\u001B[38;5;28;01mTrue\u001B[39;00m\n",
       "\u001B[1;32m    671\u001B[0m )\n",
       "\u001B[1;32m    673\u001B[0m \u001B[38;5;66;03m# If the monitoring table is provided, convert to ExternalMonitor, otherwise Monitor\u001B[39;00m\n",
       "\n",
       "File \u001B[0;32m/local_disk0/.ephemeral_nfs/envs/pythonEnv-b0aad590-f0d1-40f6-9f77-4eb262c374a4/lib/python3.11/site-packages/databricks/rag_eval/clients/managedevals/managed_evals_client.py:92\u001B[0m, in \u001B[0;36m_raise_for_status\u001B[0;34m(resp)\u001B[0m\n",
       "\u001B[1;32m     88\u001B[0m \u001B[38;5;28;01melif\u001B[39;00m \u001B[38;5;241m500\u001B[39m \u001B[38;5;241m<\u001B[39m\u001B[38;5;241m=\u001B[39m resp\u001B[38;5;241m.\u001B[39mstatus_code \u001B[38;5;241m<\u001B[39m \u001B[38;5;241m600\u001B[39m:\n",
       "\u001B[1;32m     89\u001B[0m     http_error_msg \u001B[38;5;241m=\u001B[39m (\n",
       "\u001B[1;32m     90\u001B[0m         \u001B[38;5;124mf\u001B[39m\u001B[38;5;124m\"\u001B[39m\u001B[38;5;132;01m{\u001B[39;00mresp\u001B[38;5;241m.\u001B[39mstatus_code\u001B[38;5;132;01m}\u001B[39;00m\u001B[38;5;124m Server Error: \u001B[39m\u001B[38;5;132;01m{\u001B[39;00mresp\u001B[38;5;241m.\u001B[39mreason\u001B[38;5;132;01m}\u001B[39;00m\u001B[38;5;130;01m\\n\u001B[39;00m\u001B[38;5;132;01m{\u001B[39;00mresp\u001B[38;5;241m.\u001B[39mtext\u001B[38;5;132;01m}\u001B[39;00m\u001B[38;5;124m. \u001B[39m\u001B[38;5;124m\"\u001B[39m\n",
       "\u001B[1;32m     91\u001B[0m     )\n",
       "\u001B[0;32m---> 92\u001B[0m \u001B[38;5;28;01mraise\u001B[39;00m requests\u001B[38;5;241m.\u001B[39mHTTPError(http_error_msg, response\u001B[38;5;241m=\u001B[39mresp)\n",
       "\n",
       "\u001B[0;31mHTTPError\u001B[0m: 403 Client Error: Forbidden\n",
       "{\"error_code\":\"PERMISSION_DENIED\",\"message\":\"Access denied: This feature has not been enabled for this workspace.\"}. "
      ]
     },
     "metadata": {
      "application/vnd.databricks.v1+output": {
       "addedWidgets": {},
       "arguments": {},
       "datasetInfos": [],
       "jupyterProps": {
        "ename": "HTTPError",
        "evalue": "403 Client Error: Forbidden\n{\"error_code\":\"PERMISSION_DENIED\",\"message\":\"Access denied: This feature has not been enabled for this workspace.\"}. "
       },
       "metadata": {
        "errorSummary": "<span class='ansi-red-fg'>HTTPError</span>: 403 Client Error: Forbidden\n{\"error_code\":\"PERMISSION_DENIED\",\"message\":\"Access denied: This feature has not been enabled for this workspace.\"}. "
       },
       "removedWidgets": [],
       "sqlProps": null,
       "stackFrames": [
        "\u001B[0;31m---------------------------------------------------------------------------\u001B[0m",
        "\u001B[0;31mHTTPError\u001B[0m                                 Traceback (most recent call last)",
        "File \u001B[0;32m<command-3244118383088282>, line 3\u001B[0m\n\u001B[1;32m      1\u001B[0m \u001B[38;5;28;01mfrom\u001B[39;00m \u001B[38;5;21;01mdatabricks\u001B[39;00m\u001B[38;5;21;01m.\u001B[39;00m\u001B[38;5;21;01magents\u001B[39;00m\u001B[38;5;21;01m.\u001B[39;00m\u001B[38;5;21;01mevals\u001B[39;00m\u001B[38;5;21;01m.\u001B[39;00m\u001B[38;5;21;01mmonitors\u001B[39;00m \u001B[38;5;28;01mimport\u001B[39;00m create_monitor, update_monitor, get_monitor\n\u001B[0;32m----> 3\u001B[0m monitor_cs_agent \u001B[38;5;241m=\u001B[39m create_monitor(\n\u001B[1;32m      4\u001B[0m     endpoint_name \u001B[38;5;241m=\u001B[39m deployment[\u001B[38;5;241m0\u001B[39m]\u001B[38;5;241m.\u001B[39mendpoint_name,\n\u001B[1;32m      5\u001B[0m     monitoring_config \u001B[38;5;241m=\u001B[39m {\n\u001B[1;32m      6\u001B[0m         \u001B[38;5;124m\"\u001B[39m\u001B[38;5;124msample\u001B[39m\u001B[38;5;124m\"\u001B[39m: \u001B[38;5;241m0.01\u001B[39m,  \u001B[38;5;66;03m# Sample 1% of requests\u001B[39;00m\n\u001B[1;32m      7\u001B[0m         \u001B[38;5;124m\"\u001B[39m\u001B[38;5;124mmetrics\u001B[39m\u001B[38;5;124m\"\u001B[39m: [\u001B[38;5;124m'\u001B[39m\u001B[38;5;124mguideline_adherence\u001B[39m\u001B[38;5;124m'\u001B[39m, \u001B[38;5;124m'\u001B[39m\u001B[38;5;124mgroundedness\u001B[39m\u001B[38;5;124m'\u001B[39m, \u001B[38;5;124m'\u001B[39m\u001B[38;5;124msafety\u001B[39m\u001B[38;5;124m'\u001B[39m, \u001B[38;5;124m'\u001B[39m\u001B[38;5;124mrelevance_to_query\u001B[39m\u001B[38;5;124m'\u001B[39m],\n\u001B[1;32m      8\u001B[0m         \u001B[38;5;124m\"\u001B[39m\u001B[38;5;124mglobal_guidelines\u001B[39m\u001B[38;5;124m\"\u001B[39m: {\n\u001B[1;32m      9\u001B[0m             \u001B[38;5;124m\"\u001B[39m\u001B[38;5;124menglish\u001B[39m\u001B[38;5;124m\"\u001B[39m: [\u001B[38;5;124m\"\u001B[39m\u001B[38;5;124mThe response must be in English\u001B[39m\u001B[38;5;124m\"\u001B[39m],\n\u001B[1;32m     10\u001B[0m             \u001B[38;5;124m\"\u001B[39m\u001B[38;5;124mclarity\u001B[39m\u001B[38;5;124m\"\u001B[39m: [\u001B[38;5;124m\"\u001B[39m\u001B[38;5;124mThe response must be clear, coherent, and concise\u001B[39m\u001B[38;5;124m\"\u001B[39m],\n\u001B[1;32m     11\u001B[0m         }\n\u001B[1;32m     12\u001B[0m     }\n\u001B[1;32m     13\u001B[0m )\n",
        "File \u001B[0;32m/local_disk0/.ephemeral_nfs/envs/pythonEnv-b0aad590-f0d1-40f6-9f77-4eb262c374a4/lib/python3.11/site-packages/databricks/rag_eval/context.py:213\u001B[0m, in \u001B[0;36meval_context.<locals>.wrapper\u001B[0;34m(*args, **kwargs)\u001B[0m\n\u001B[1;32m    211\u001B[0m \u001B[38;5;66;03m# Raise the original error if there was one, otherwise return\u001B[39;00m\n\u001B[1;32m    212\u001B[0m \u001B[38;5;28;01mif\u001B[39;00m error \u001B[38;5;129;01mis\u001B[39;00m \u001B[38;5;129;01mnot\u001B[39;00m \u001B[38;5;28;01mNone\u001B[39;00m:\n\u001B[0;32m--> 213\u001B[0m     \u001B[38;5;28;01mraise\u001B[39;00m error\n\u001B[1;32m    214\u001B[0m \u001B[38;5;28;01melse\u001B[39;00m:\n\u001B[1;32m    215\u001B[0m     \u001B[38;5;28;01mreturn\u001B[39;00m result\n",
        "File \u001B[0;32m/local_disk0/.ephemeral_nfs/envs/pythonEnv-b0aad590-f0d1-40f6-9f77-4eb262c374a4/lib/python3.11/site-packages/databricks/rag_eval/context.py:204\u001B[0m, in \u001B[0;36meval_context.<locals>.wrapper\u001B[0;34m(*args, **kwargs)\u001B[0m\n\u001B[1;32m    201\u001B[0m result \u001B[38;5;241m=\u001B[39m \u001B[38;5;28;01mNone\u001B[39;00m\n\u001B[1;32m    203\u001B[0m \u001B[38;5;28;01mtry\u001B[39;00m:\n\u001B[0;32m--> 204\u001B[0m     result \u001B[38;5;241m=\u001B[39m func(\u001B[38;5;241m*\u001B[39margs, \u001B[38;5;241m*\u001B[39m\u001B[38;5;241m*\u001B[39mkwargs)\n\u001B[1;32m    205\u001B[0m \u001B[38;5;28;01mexcept\u001B[39;00m \u001B[38;5;167;01mException\u001B[39;00m \u001B[38;5;28;01mas\u001B[39;00m e:  \u001B[38;5;66;03m# pylint: disable=broad-except\u001B[39;00m\n\u001B[1;32m    206\u001B[0m     error \u001B[38;5;241m=\u001B[39m e\n",
        "File \u001B[0;32m/local_disk0/.ephemeral_nfs/envs/pythonEnv-b0aad590-f0d1-40f6-9f77-4eb262c374a4/lib/python3.11/site-packages/databricks/rag_eval/monitoring/api.py:115\u001B[0m, in \u001B[0;36mcreate_monitor\u001B[0;34m(endpoint_name, monitoring_config, experiment_id)\u001B[0m\n\u001B[1;32m     97\u001B[0m \u001B[38;5;129m@context\u001B[39m\u001B[38;5;241m.\u001B[39meval_context\n\u001B[1;32m     98\u001B[0m \u001B[38;5;28;01mdef\u001B[39;00m \u001B[38;5;21mcreate_monitor\u001B[39m(\n\u001B[1;32m     99\u001B[0m     endpoint_name: \u001B[38;5;28mstr\u001B[39m,\n\u001B[0;32m   (...)\u001B[0m\n\u001B[1;32m    102\u001B[0m     experiment_id: \u001B[38;5;28mstr\u001B[39m \u001B[38;5;241m|\u001B[39m \u001B[38;5;28;01mNone\u001B[39;00m \u001B[38;5;241m=\u001B[39m \u001B[38;5;28;01mNone\u001B[39;00m,\n\u001B[1;32m    103\u001B[0m ) \u001B[38;5;241m-\u001B[39m\u001B[38;5;241m>\u001B[39m entities\u001B[38;5;241m.\u001B[39mMonitor:\n\u001B[1;32m    104\u001B[0m \u001B[38;5;250m    \u001B[39m\u001B[38;5;124;03m\"\"\"\u001B[39;00m\n\u001B[1;32m    105\u001B[0m \u001B[38;5;124;03m    Create a monitor for a serving endpoint.\u001B[39;00m\n\u001B[1;32m    106\u001B[0m \n\u001B[0;32m   (...)\u001B[0m\n\u001B[1;32m    113\u001B[0m \u001B[38;5;124;03m        The monitor for the serving endpoint.\u001B[39;00m\n\u001B[1;32m    114\u001B[0m \u001B[38;5;124;03m    \"\"\"\u001B[39;00m\n\u001B[0;32m--> 115\u001B[0m     monitor \u001B[38;5;241m=\u001B[39m _create_monitor_internal(endpoint_name, monitoring_config, experiment_id)\n\u001B[1;32m    116\u001B[0m     \u001B[38;5;28mprint\u001B[39m(\u001B[38;5;124mf\u001B[39m\u001B[38;5;124m'\u001B[39m\u001B[38;5;124mCreated monitor for experiment \u001B[39m\u001B[38;5;124m\"\u001B[39m\u001B[38;5;132;01m{\u001B[39;00mmonitor\u001B[38;5;241m.\u001B[39mexperiment_id\u001B[38;5;132;01m}\u001B[39;00m\u001B[38;5;124m\"\u001B[39m\u001B[38;5;124m.\u001B[39m\u001B[38;5;124m'\u001B[39m)\n\u001B[1;32m    117\u001B[0m     \u001B[38;5;28mprint\u001B[39m(\u001B[38;5;124mf\u001B[39m\u001B[38;5;124m\"\u001B[39m\u001B[38;5;130;01m\\n\u001B[39;00m\u001B[38;5;124mView monitoring page: \u001B[39m\u001B[38;5;132;01m{\u001B[39;00mmonitor\u001B[38;5;241m.\u001B[39mmonitoring_page_url\u001B[38;5;132;01m}\u001B[39;00m\u001B[38;5;124m\"\u001B[39m)\n",
        "File \u001B[0;32m/local_disk0/.ephemeral_nfs/envs/pythonEnv-b0aad590-f0d1-40f6-9f77-4eb262c374a4/lib/python3.11/site-packages/databricks/rag_eval/context.py:213\u001B[0m, in \u001B[0;36meval_context.<locals>.wrapper\u001B[0;34m(*args, **kwargs)\u001B[0m\n\u001B[1;32m    211\u001B[0m \u001B[38;5;66;03m# Raise the original error if there was one, otherwise return\u001B[39;00m\n\u001B[1;32m    212\u001B[0m \u001B[38;5;28;01mif\u001B[39;00m error \u001B[38;5;129;01mis\u001B[39;00m \u001B[38;5;129;01mnot\u001B[39;00m \u001B[38;5;28;01mNone\u001B[39;00m:\n\u001B[0;32m--> 213\u001B[0m     \u001B[38;5;28;01mraise\u001B[39;00m error\n\u001B[1;32m    214\u001B[0m \u001B[38;5;28;01melse\u001B[39;00m:\n\u001B[1;32m    215\u001B[0m     \u001B[38;5;28;01mreturn\u001B[39;00m result\n",
        "File \u001B[0;32m/local_disk0/.ephemeral_nfs/envs/pythonEnv-b0aad590-f0d1-40f6-9f77-4eb262c374a4/lib/python3.11/site-packages/databricks/rag_eval/context.py:204\u001B[0m, in \u001B[0;36meval_context.<locals>.wrapper\u001B[0;34m(*args, **kwargs)\u001B[0m\n\u001B[1;32m    201\u001B[0m result \u001B[38;5;241m=\u001B[39m \u001B[38;5;28;01mNone\u001B[39;00m\n\u001B[1;32m    203\u001B[0m \u001B[38;5;28;01mtry\u001B[39;00m:\n\u001B[0;32m--> 204\u001B[0m     result \u001B[38;5;241m=\u001B[39m func(\u001B[38;5;241m*\u001B[39margs, \u001B[38;5;241m*\u001B[39m\u001B[38;5;241m*\u001B[39mkwargs)\n\u001B[1;32m    205\u001B[0m \u001B[38;5;28;01mexcept\u001B[39;00m \u001B[38;5;167;01mException\u001B[39;00m \u001B[38;5;28;01mas\u001B[39;00m e:  \u001B[38;5;66;03m# pylint: disable=broad-except\u001B[39;00m\n\u001B[1;32m    206\u001B[0m     error \u001B[38;5;241m=\u001B[39m e\n",
        "File \u001B[0;32m/local_disk0/.ephemeral_nfs/envs/pythonEnv-b0aad590-f0d1-40f6-9f77-4eb262c374a4/lib/python3.11/site-packages/databricks/rag_eval/monitoring/api.py:150\u001B[0m, in \u001B[0;36m_create_monitor_internal\u001B[0;34m(endpoint_name, monitoring_config, experiment_id)\u001B[0m\n\u001B[1;32m    147\u001B[0m     experiment \u001B[38;5;241m=\u001B[39m mlflow\u001B[38;5;241m.\u001B[39mget_experiment(experiment_id)\n\u001B[1;32m    149\u001B[0m workspace_path \u001B[38;5;241m=\u001B[39m os\u001B[38;5;241m.\u001B[39mpath\u001B[38;5;241m.\u001B[39mdirname(experiment\u001B[38;5;241m.\u001B[39mname)\n\u001B[0;32m--> 150\u001B[0m \u001B[38;5;28;01mreturn\u001B[39;00m _get_managed_evals_client()\u001B[38;5;241m.\u001B[39mcreate_monitor(\n\u001B[1;32m    151\u001B[0m     endpoint_name\u001B[38;5;241m=\u001B[39mendpoint_name,\n\u001B[1;32m    152\u001B[0m     monitoring_config\u001B[38;5;241m=\u001B[39mmonitoring_config,\n\u001B[1;32m    153\u001B[0m     experiment_id\u001B[38;5;241m=\u001B[39mexperiment\u001B[38;5;241m.\u001B[39mexperiment_id,\n\u001B[1;32m    154\u001B[0m     workspace_path\u001B[38;5;241m=\u001B[39mworkspace_path,\n\u001B[1;32m    155\u001B[0m )\n",
        "File \u001B[0;32m/local_disk0/.ephemeral_nfs/envs/pythonEnv-b0aad590-f0d1-40f6-9f77-4eb262c374a4/lib/python3.11/site-packages/databricks/rag_eval/clients/managedevals/managed_evals_client.py:668\u001B[0m, in \u001B[0;36mManagedEvalsClient.create_monitor\u001B[0;34m(self, endpoint_name, monitoring_config, experiment_id, workspace_path, monitoring_table)\u001B[0m\n\u001B[1;32m    661\u001B[0m \u001B[38;5;28;01mwith\u001B[39;00m \u001B[38;5;28mself\u001B[39m\u001B[38;5;241m.\u001B[39mget_default_request_session(\n\u001B[1;32m    662\u001B[0m     headers\u001B[38;5;241m=\u001B[39m_get_default_headers()\n\u001B[1;32m    663\u001B[0m ) \u001B[38;5;28;01mas\u001B[39;00m session:\n\u001B[1;32m    664\u001B[0m     response \u001B[38;5;241m=\u001B[39m session\u001B[38;5;241m.\u001B[39mpost(\n\u001B[1;32m    665\u001B[0m         url\u001B[38;5;241m=\u001B[39m\u001B[38;5;28mself\u001B[39m\u001B[38;5;241m.\u001B[39mget_method_url(\u001B[38;5;124mf\u001B[39m\u001B[38;5;124m\"\u001B[39m\u001B[38;5;124m/managed-evals/monitors/\u001B[39m\u001B[38;5;132;01m{\u001B[39;00mendpoint_name\u001B[38;5;132;01m}\u001B[39;00m\u001B[38;5;124m\"\u001B[39m),\n\u001B[1;32m    666\u001B[0m         json\u001B[38;5;241m=\u001B[39mrequest_body,\n\u001B[1;32m    667\u001B[0m     )\n\u001B[0;32m--> 668\u001B[0m _raise_for_status(response)\n\u001B[1;32m    669\u001B[0m monitor_info_rest \u001B[38;5;241m=\u001B[39m rest_entities\u001B[38;5;241m.\u001B[39mMonitorInfo\u001B[38;5;241m.\u001B[39mfrom_dict(\n\u001B[1;32m    670\u001B[0m     response\u001B[38;5;241m.\u001B[39mjson(), infer_missing\u001B[38;5;241m=\u001B[39m\u001B[38;5;28;01mTrue\u001B[39;00m\n\u001B[1;32m    671\u001B[0m )\n\u001B[1;32m    673\u001B[0m \u001B[38;5;66;03m# If the monitoring table is provided, convert to ExternalMonitor, otherwise Monitor\u001B[39;00m\n",
        "File \u001B[0;32m/local_disk0/.ephemeral_nfs/envs/pythonEnv-b0aad590-f0d1-40f6-9f77-4eb262c374a4/lib/python3.11/site-packages/databricks/rag_eval/clients/managedevals/managed_evals_client.py:92\u001B[0m, in \u001B[0;36m_raise_for_status\u001B[0;34m(resp)\u001B[0m\n\u001B[1;32m     88\u001B[0m \u001B[38;5;28;01melif\u001B[39;00m \u001B[38;5;241m500\u001B[39m \u001B[38;5;241m<\u001B[39m\u001B[38;5;241m=\u001B[39m resp\u001B[38;5;241m.\u001B[39mstatus_code \u001B[38;5;241m<\u001B[39m \u001B[38;5;241m600\u001B[39m:\n\u001B[1;32m     89\u001B[0m     http_error_msg \u001B[38;5;241m=\u001B[39m (\n\u001B[1;32m     90\u001B[0m         \u001B[38;5;124mf\u001B[39m\u001B[38;5;124m\"\u001B[39m\u001B[38;5;132;01m{\u001B[39;00mresp\u001B[38;5;241m.\u001B[39mstatus_code\u001B[38;5;132;01m}\u001B[39;00m\u001B[38;5;124m Server Error: \u001B[39m\u001B[38;5;132;01m{\u001B[39;00mresp\u001B[38;5;241m.\u001B[39mreason\u001B[38;5;132;01m}\u001B[39;00m\u001B[38;5;130;01m\\n\u001B[39;00m\u001B[38;5;132;01m{\u001B[39;00mresp\u001B[38;5;241m.\u001B[39mtext\u001B[38;5;132;01m}\u001B[39;00m\u001B[38;5;124m. \u001B[39m\u001B[38;5;124m\"\u001B[39m\n\u001B[1;32m     91\u001B[0m     )\n\u001B[0;32m---> 92\u001B[0m \u001B[38;5;28;01mraise\u001B[39;00m requests\u001B[38;5;241m.\u001B[39mHTTPError(http_error_msg, response\u001B[38;5;241m=\u001B[39mresp)\n",
        "\u001B[0;31mHTTPError\u001B[0m: 403 Client Error: Forbidden\n{\"error_code\":\"PERMISSION_DENIED\",\"message\":\"Access denied: This feature has not been enabled for this workspace.\"}. "
       ],
       "type": "baseError"
      }
     },
     "output_type": "display_data"
    }
   ],
   "source": [
    "from databricks.agents.evals.monitors import create_monitor, update_monitor, get_monitor\n",
    "\n",
    "monitor_cs_agent = create_monitor(\n",
    "    endpoint_name = deployment[0].endpoint_name,\n",
    "    monitoring_config = {\n",
    "        \"sample\": 0.01,  # Sample 1% of requests\n",
    "        \"metrics\": ['guideline_adherence', 'groundedness', 'safety', 'relevance_to_query'],\n",
    "        \"global_guidelines\": {\n",
    "            \"english\": [\"The response must be in English\"],\n",
    "            \"clarity\": [\"The response must be clear, coherent, and concise\"],\n",
    "        }\n",
    "    }\n",
    ")\n",
    "\n",
    "# monitor_vs_agent = create_monitor(\n",
    "#     endpoint_name = deployment2[0].endpoint_name,\n",
    "#     monitoring_config = {\n",
    "#         \"sample\": 0.01,  # Sample 1% of requests\n",
    "#         \"metrics\": ['guideline_adherence', 'groundedness', 'safety', 'relevance_to_query'],\n",
    "#         \"global_guidelines\": {\n",
    "#             \"english\": [\"The response must be in English\"],\n",
    "#             \"clarity\": [\"The response must be clear, coherent, and concise\"],\n",
    "#         }\n",
    "#     }\n",
    "# )"
   ]
  },
  {
   "cell_type": "code",
   "execution_count": 0,
   "metadata": {
    "application/vnd.databricks.v1+cell": {
     "cellMetadata": {},
     "inputWidgets": {},
     "nuid": "41a33678-9141-4936-8223-6077b39bbee4",
     "showTitle": false,
     "tableResultSettingsMap": {},
     "title": ""
    }
   },
   "outputs": [],
   "source": []
  }
 ],
 "metadata": {
  "application/vnd.databricks.v1+notebook": {
   "computePreferences": null,
   "dashboards": [],
   "environmentMetadata": {
    "base_environment": "",
    "environment_version": "2"
   },
   "inputWidgetPreferences": null,
   "language": "python",
   "notebookMetadata": {
    "pythonIndentUnit": 4
   },
   "notebookName": "06-monitoring-deployed-agents",
   "widgets": {}
  },
  "language_info": {
   "name": "python"
  }
 },
 "nbformat": 4,
 "nbformat_minor": 0
}
