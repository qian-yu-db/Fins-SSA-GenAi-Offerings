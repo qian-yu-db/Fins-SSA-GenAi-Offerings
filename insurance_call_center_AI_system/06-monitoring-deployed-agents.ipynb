{
 "cells": [
  {
   "cell_type": "markdown",
   "metadata": {
    "application/vnd.databricks.v1+cell": {
     "cellMetadata": {},
     "inputWidgets": {},
     "nuid": "f1ad9795-5563-42f3-b989-6f10855c3753",
     "showTitle": false,
     "tableResultSettingsMap": {},
     "title": ""
    }
   },
   "source": [
    "# Notebook Purpose\n",
    "\n",
    "In this notebook, we will setup monitoring for monitoring for deployed AI agents"
   ]
  },
  {
   "cell_type": "code",
   "execution_count": 0,
   "metadata": {
    "application/vnd.databricks.v1+cell": {
     "cellMetadata": {
      "byteLimit": 2048000,
      "rowLimit": 10000
     },
     "inputWidgets": {},
     "nuid": "42fff478-025c-4d6d-bd7b-6962d139c65e",
     "showTitle": false,
     "tableResultSettingsMap": {},
     "title": ""
    }
   },
   "outputs": [],
   "source": [
    "%pip install databricks-agents mlflow -q -U\n",
    "dbutils.library.restartPython()"
   ]
  },
  {
   "cell_type": "code",
   "execution_count": 0,
   "metadata": {
    "application/vnd.databricks.v1+cell": {
     "cellMetadata": {
      "byteLimit": 2048000,
      "rowLimit": 10000
     },
     "inputWidgets": {},
     "nuid": "a5637a08-c021-4d49-9f2f-3ca985d30fb5",
     "showTitle": false,
     "tableResultSettingsMap": {},
     "title": ""
    }
   },
   "outputs": [],
   "source": [
    "%run ./config"
   ]
  },
  {
   "cell_type": "code",
   "execution_count": 0,
   "metadata": {
    "application/vnd.databricks.v1+cell": {
     "cellMetadata": {
      "byteLimit": 2048000,
      "rowLimit": 10000
     },
     "inputWidgets": {},
     "nuid": "48e77823-ae48-4587-aeaa-a5b4fd9c94ab",
     "showTitle": false,
     "tableResultSettingsMap": {},
     "title": ""
    }
   },
   "outputs": [],
   "source": [
    "dbutils.widgets.dropdown(\"deployed_agent\", defaultValue=\"langgraph_call_center_cs\", choices=[\"langgraph_call_center_cs\", \"langgraph_call_center_vs\"])\n",
    "dbutils.widgets.text(\"model_version\", defaultValue=\"1\", label=\"Model Version\")"
   ]
  },
  {
   "cell_type": "code",
   "execution_count": 0,
   "metadata": {
    "application/vnd.databricks.v1+cell": {
     "cellMetadata": {
      "byteLimit": 2048000,
      "rowLimit": 10000
     },
     "inputWidgets": {},
     "nuid": "c6f0567b-d6e7-4d39-8cf5-bfbc11df6f96",
     "showTitle": false,
     "tableResultSettingsMap": {},
     "title": ""
    }
   },
   "outputs": [],
   "source": [
    "import mlflow \n",
    "\n",
    "mlflow.set_registry_uri(\"databricks-uc\")\n",
    "\n",
    "model_name = dbutils.widgets.get(\"deployed_agent\")\n",
    "model_version = dbutils.widgets.get(\"model_version\")\n",
    "UC_MODEL_NAME = f\"{catalog}.{schema}.{model_name}\""
   ]
  },
  {
   "cell_type": "markdown",
   "metadata": {
    "application/vnd.databricks.v1+cell": {
     "cellMetadata": {},
     "inputWidgets": {},
     "nuid": "1dbe53e4-33b4-466a-af6c-adc3c298dff9",
     "showTitle": false,
     "tableResultSettingsMap": {},
     "title": ""
    }
   },
   "source": [
    "# List the Deployed Agents\n",
    "\n",
    "- choose the version of model\n",
    "- double check the endpoint"
   ]
  },
  {
   "cell_type": "code",
   "execution_count": 0,
   "metadata": {
    "application/vnd.databricks.v1+cell": {
     "cellMetadata": {
      "byteLimit": 2048000,
      "rowLimit": 10000
     },
     "inputWidgets": {},
     "nuid": "b3a45509-dcb7-4a5b-84a4-9ec5227ff637",
     "showTitle": false,
     "tableResultSettingsMap": {},
     "title": ""
    }
   },
   "outputs": [],
   "source": [
    "from databricks.agents import list_deployments, get_deployments\n",
    "\n",
    "# Get the deployment for specific model_fqn and version\n",
    "deployment = get_deployments(model_name=UC_MODEL_NAME, model_version=model_version)\n",
    "\n",
    "print(deployment)"
   ]
  },
  {
   "cell_type": "markdown",
   "metadata": {
    "application/vnd.databricks.v1+cell": {
     "cellMetadata": {},
     "inputWidgets": {},
     "nuid": "41a33678-9141-4936-8223-6077b39bbee4",
     "showTitle": false,
     "tableResultSettingsMap": {},
     "title": ""
    }
   },
   "source": [
    "# Update Montnitor Based on your needs\n",
    "\n",
    "If the agent is deployed with agent framework, the monitor is already created, one just need to define desired settings"
   ]
  },
  {
   "cell_type": "code",
   "execution_count": 0,
   "metadata": {
    "application/vnd.databricks.v1+cell": {
     "cellMetadata": {
      "byteLimit": 2048000,
      "rowLimit": 10000
     },
     "inputWidgets": {},
     "nuid": "28dc5535-9fac-47de-8026-8d52c1a71161",
     "showTitle": false,
     "tableResultSettingsMap": {},
     "title": ""
    }
   },
   "outputs": [],
   "source": [
    "from databricks.agents.monitoring import update_monitor\n",
    "\n",
    "monitor = update_monitor(\n",
    "    endpoint_name = deployment[0].endpoint_name,\n",
    "    monitoring_config = {\n",
    "        \"sample\": 0.01,  # Sample 1% of requests\n",
    "        \"metrics\": ['guideline_adherence', 'groundedness', 'safety', 'relevance_to_query'],\n",
    "        \"global_guidelines\": {\n",
    "            \"english\": [\"The response must be in English\"],\n",
    "            \"clarity\": [\"The response must be clear, coherent, and concise\"],\n",
    "        }\n",
    "    }\n",
    ")"
   ]
  },
  {
   "cell_type": "code",
   "execution_count": 0,
   "metadata": {
    "application/vnd.databricks.v1+cell": {
     "cellMetadata": {},
     "inputWidgets": {},
     "nuid": "b81da6c9-1844-439f-8833-54fd736a5828",
     "showTitle": false,
     "tableResultSettingsMap": {},
     "title": ""
    }
   },
   "outputs": [],
   "source": []
  }
 ],
 "metadata": {
  "application/vnd.databricks.v1+notebook": {
   "computePreferences": null,
   "dashboards": [],
   "environmentMetadata": {
    "base_environment": "",
    "environment_version": "2"
   },
   "inputWidgetPreferences": null,
   "language": "python",
   "notebookMetadata": {
    "pythonIndentUnit": 4
   },
   "notebookName": "06-monitoring-deployed-agents",
   "widgets": {
    "deployed_agent": {
     "currentValue": "langgraph_call_center_cs",
     "nuid": "f322138f-4eb8-498d-8ab3-758003ebb701",
     "typedWidgetInfo": {
      "autoCreated": false,
      "defaultValue": "langgraph_call_center_cs",
      "label": null,
      "name": "deployed_agent",
      "options": {
       "widgetDisplayType": "Dropdown",
       "choices": [
        "langgraph_call_center_cs",
        "langgraph_call_center_vs"
       ],
       "fixedDomain": true,
       "multiselect": false
      },
      "parameterDataType": "String"
     },
     "widgetInfo": {
      "widgetType": "dropdown",
      "defaultValue": "langgraph_call_center_cs",
      "label": null,
      "name": "deployed_agent",
      "options": {
       "widgetType": "dropdown",
       "autoCreated": null,
       "choices": [
        "langgraph_call_center_cs",
        "langgraph_call_center_vs"
       ]
      }
     }
    },
    "model_version": {
     "currentValue": "4",
     "nuid": "0a836b72-0c5b-48c4-955f-5c5da773a1cd",
     "typedWidgetInfo": {
      "autoCreated": false,
      "defaultValue": "1",
      "label": "Model Version",
      "name": "model_version",
      "options": {
       "widgetDisplayType": "Text",
       "validationRegex": null
      },
      "parameterDataType": "String"
     },
     "widgetInfo": {
      "widgetType": "text",
      "defaultValue": "1",
      "label": "Model Version",
      "name": "model_version",
      "options": {
       "widgetType": "text",
       "autoCreated": false,
       "validationRegex": null
      }
     }
    }
   }
  },
  "language_info": {
   "name": "python"
  }
 },
 "nbformat": 4,
 "nbformat_minor": 0
}
